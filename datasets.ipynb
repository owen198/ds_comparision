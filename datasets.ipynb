{
 "cells": [
  {
   "cell_type": "code",
   "execution_count": 1,
   "metadata": {},
   "outputs": [
    {
     "name": "stderr",
     "output_type": "stream",
     "text": [
      "/usr/lib/python3.4/importlib/_bootstrap.py:321: RuntimeWarning: numpy.dtype size changed, may indicate binary incompatibility. Expected 96, got 88\n",
      "  return f(*args, **kwds)\n",
      "/usr/lib/python3.4/importlib/_bootstrap.py:321: RuntimeWarning: numpy.dtype size changed, may indicate binary incompatibility. Expected 96, got 88\n",
      "  return f(*args, **kwds)\n",
      "/usr/lib/python3.4/importlib/_bootstrap.py:321: RuntimeWarning: numpy.dtype size changed, may indicate binary incompatibility. Expected 96, got 88\n",
      "  return f(*args, **kwds)\n"
     ]
    }
   ],
   "source": [
    "import pandas as pd\n",
    "from pymongo import MongoClient\n",
    "import matplotlib\n",
    "import matplotlib.mlab as mlab\n",
    "import matplotlib.pyplot as plt\n",
    "from scipy.stats import kurtosis\n",
    "from scipy.stats import skew\n",
    "from scipy import stats  \n",
    "import numpy as np\n",
    "from sklearn.cluster import KMeans\n",
    "from scipy.spatial.distance import cdist"
   ]
  },
  {
   "cell_type": "code",
   "execution_count": 2,
   "metadata": {},
   "outputs": [
    {
     "name": "stderr",
     "output_type": "stream",
     "text": [
      "/usr/local/lib/python3.4/dist-packages/ipykernel_launcher.py:2: DeprecationWarning: database_names is deprecated. Use list_database_names instead.\n",
      "  \n"
     ]
    },
    {
     "data": {
      "text/plain": [
       "['CYCU_1031SP',\n",
       " 'CYCU_1041SP',\n",
       " 'CYCU_1042OS',\n",
       " 'CYCU_1051SP',\n",
       " 'CYCU_1052OS',\n",
       " 'KU_dataset_1',\n",
       " 'KU_dataset_2',\n",
       " 'NCU_CHKA',\n",
       " 'NCU_CHKB',\n",
       " 'NCU_ETS',\n",
       " 'NCUx107_Pre_college_calculas',\n",
       " 'OULAD',\n",
       " 'admin',\n",
       " 'config',\n",
       " 'local',\n",
       " 'test']"
      ]
     },
     "execution_count": 2,
     "metadata": {},
     "output_type": "execute_result"
    }
   ],
   "source": [
    "conn = MongoClient('140.115.53.147', 27017)\n",
    "conn.database_names()"
   ]
  },
  {
   "cell_type": "markdown",
   "metadata": {},
   "source": [
    "# NCUx"
   ]
  },
  {
   "cell_type": "markdown",
   "metadata": {},
   "source": [
    "### NCUx - Freshman calculas"
   ]
  },
  {
   "cell_type": "code",
   "execution_count": 3,
   "metadata": {},
   "outputs": [
    {
     "data": {
      "text/html": [
       "<div>\n",
       "<style scoped>\n",
       "    .dataframe tbody tr th:only-of-type {\n",
       "        vertical-align: middle;\n",
       "    }\n",
       "\n",
       "    .dataframe tbody tr th {\n",
       "        vertical-align: top;\n",
       "    }\n",
       "\n",
       "    .dataframe thead th {\n",
       "        text-align: right;\n",
       "    }\n",
       "</style>\n",
       "<table border=\"1\" class=\"dataframe\">\n",
       "  <thead>\n",
       "    <tr style=\"text-align: right;\">\n",
       "      <th></th>\n",
       "      <th>_id</th>\n",
       "      <th>final_score</th>\n",
       "      <th>username</th>\n",
       "    </tr>\n",
       "  </thead>\n",
       "  <tbody>\n",
       "    <tr>\n",
       "      <th>0</th>\n",
       "      <td>5ba66ac098d846d79444b79d</td>\n",
       "      <td>24.5</td>\n",
       "      <td>104602004</td>\n",
       "    </tr>\n",
       "    <tr>\n",
       "      <th>1</th>\n",
       "      <td>5ba66ac098d846d79444b79e</td>\n",
       "      <td>74.12</td>\n",
       "      <td>104602005</td>\n",
       "    </tr>\n",
       "    <tr>\n",
       "      <th>2</th>\n",
       "      <td>5ba66ac098d846d79444b79f</td>\n",
       "      <td>61.13</td>\n",
       "      <td>104602006</td>\n",
       "    </tr>\n",
       "  </tbody>\n",
       "</table>\n",
       "</div>"
      ],
      "text/plain": [
       "                        _id final_score   username\n",
       "0  5ba66ac098d846d79444b79d        24.5  104602004\n",
       "1  5ba66ac098d846d79444b79e       74.12  104602005\n",
       "2  5ba66ac098d846d79444b79f       61.13  104602006"
      ]
     },
     "execution_count": 3,
     "metadata": {},
     "output_type": "execute_result"
    }
   ],
   "source": [
    "db = conn['NCU_ETS']\n",
    "collection = db['ets_final_score']\n",
    "df = pd.DataFrame(list(collection.find()))\n",
    "df.head(3)"
   ]
  },
  {
   "cell_type": "code",
   "execution_count": 4,
   "metadata": {},
   "outputs": [],
   "source": [
    "score_df = df['final_score']\n",
    "score_df = score_df.dropna()\n",
    "score_df = score_df.astype(float)\n",
    "ncux_fc = score_df.astype(int)"
   ]
  },
  {
   "cell_type": "markdown",
   "metadata": {},
   "source": [
    "### NCUx - chka"
   ]
  },
  {
   "cell_type": "code",
   "execution_count": 5,
   "metadata": {},
   "outputs": [
    {
     "data": {
      "text/html": [
       "<div>\n",
       "<style scoped>\n",
       "    .dataframe tbody tr th:only-of-type {\n",
       "        vertical-align: middle;\n",
       "    }\n",
       "\n",
       "    .dataframe tbody tr th {\n",
       "        vertical-align: top;\n",
       "    }\n",
       "\n",
       "    .dataframe thead th {\n",
       "        text-align: right;\n",
       "    }\n",
       "</style>\n",
       "<table border=\"1\" class=\"dataframe\">\n",
       "  <thead>\n",
       "    <tr style=\"text-align: right;\">\n",
       "      <th></th>\n",
       "      <th>_id</th>\n",
       "      <th>final_score</th>\n",
       "      <th>username</th>\n",
       "    </tr>\n",
       "  </thead>\n",
       "  <tbody>\n",
       "    <tr>\n",
       "      <th>0</th>\n",
       "      <td>5ba66abe98d846d79444aa71</td>\n",
       "      <td>30</td>\n",
       "      <td>Y1050167</td>\n",
       "    </tr>\n",
       "    <tr>\n",
       "      <th>1</th>\n",
       "      <td>5ba66abe98d846d79444aa72</td>\n",
       "      <td>10</td>\n",
       "      <td>Y1050168</td>\n",
       "    </tr>\n",
       "    <tr>\n",
       "      <th>2</th>\n",
       "      <td>5ba66abe98d846d79444aa73</td>\n",
       "      <td>0</td>\n",
       "      <td>Y1050169</td>\n",
       "    </tr>\n",
       "  </tbody>\n",
       "</table>\n",
       "</div>"
      ],
      "text/plain": [
       "                        _id final_score  username\n",
       "0  5ba66abe98d846d79444aa71          30  Y1050167\n",
       "1  5ba66abe98d846d79444aa72          10  Y1050168\n",
       "2  5ba66abe98d846d79444aa73           0  Y1050169"
      ]
     },
     "execution_count": 5,
     "metadata": {},
     "output_type": "execute_result"
    }
   ],
   "source": [
    "db = conn['NCU_CHKA']\n",
    "collection = db['chka_final_score']\n",
    "df = pd.DataFrame(list(collection.find()))\n",
    "df.head(3)"
   ]
  },
  {
   "cell_type": "code",
   "execution_count": 6,
   "metadata": {},
   "outputs": [],
   "source": [
    "score_df = df['final_score']\n",
    "score_df = score_df.dropna()\n",
    "score_df = score_df.astype(float)\n",
    "ncux_chka = score_df.astype(int)"
   ]
  },
  {
   "cell_type": "markdown",
   "metadata": {},
   "source": [
    "### NCUx - chkb"
   ]
  },
  {
   "cell_type": "code",
   "execution_count": 7,
   "metadata": {},
   "outputs": [
    {
     "data": {
      "text/html": [
       "<div>\n",
       "<style scoped>\n",
       "    .dataframe tbody tr th:only-of-type {\n",
       "        vertical-align: middle;\n",
       "    }\n",
       "\n",
       "    .dataframe tbody tr th {\n",
       "        vertical-align: top;\n",
       "    }\n",
       "\n",
       "    .dataframe thead th {\n",
       "        text-align: right;\n",
       "    }\n",
       "</style>\n",
       "<table border=\"1\" class=\"dataframe\">\n",
       "  <thead>\n",
       "    <tr style=\"text-align: right;\">\n",
       "      <th></th>\n",
       "      <th>_id</th>\n",
       "      <th>final_score</th>\n",
       "      <th>username</th>\n",
       "    </tr>\n",
       "  </thead>\n",
       "  <tbody>\n",
       "    <tr>\n",
       "      <th>0</th>\n",
       "      <td>5ba66abf98d846d79444b191</td>\n",
       "      <td>10</td>\n",
       "      <td>Y1050280</td>\n",
       "    </tr>\n",
       "    <tr>\n",
       "      <th>1</th>\n",
       "      <td>5ba66abf98d846d79444b192</td>\n",
       "      <td>10</td>\n",
       "      <td>Y1050281</td>\n",
       "    </tr>\n",
       "    <tr>\n",
       "      <th>2</th>\n",
       "      <td>5ba66abf98d846d79444b193</td>\n",
       "      <td>10</td>\n",
       "      <td>Y1050282</td>\n",
       "    </tr>\n",
       "  </tbody>\n",
       "</table>\n",
       "</div>"
      ],
      "text/plain": [
       "                        _id final_score  username\n",
       "0  5ba66abf98d846d79444b191          10  Y1050280\n",
       "1  5ba66abf98d846d79444b192          10  Y1050281\n",
       "2  5ba66abf98d846d79444b193          10  Y1050282"
      ]
     },
     "execution_count": 7,
     "metadata": {},
     "output_type": "execute_result"
    }
   ],
   "source": [
    "db = conn['NCU_CHKB']\n",
    "collection = db['chkb_final_score']\n",
    "df = pd.DataFrame(list(collection.find()))\n",
    "df.head(3)"
   ]
  },
  {
   "cell_type": "code",
   "execution_count": 8,
   "metadata": {},
   "outputs": [],
   "source": [
    "score_df = df['final_score']\n",
    "score_df = score_df.dropna()\n",
    "score_df = score_df.astype(float)\n",
    "ncux_chkb = score_df.astype(int)"
   ]
  },
  {
   "cell_type": "markdown",
   "metadata": {},
   "source": [
    "### NCUx107_Pre_college_calculas"
   ]
  },
  {
   "cell_type": "code",
   "execution_count": 9,
   "metadata": {},
   "outputs": [
    {
     "data": {
      "text/html": [
       "<div>\n",
       "<style scoped>\n",
       "    .dataframe tbody tr th:only-of-type {\n",
       "        vertical-align: middle;\n",
       "    }\n",
       "\n",
       "    .dataframe tbody tr th {\n",
       "        vertical-align: top;\n",
       "    }\n",
       "\n",
       "    .dataframe thead th {\n",
       "        text-align: right;\n",
       "    }\n",
       "</style>\n",
       "<table border=\"1\" class=\"dataframe\">\n",
       "  <thead>\n",
       "    <tr style=\"text-align: right;\">\n",
       "      <th></th>\n",
       "      <th>_id</th>\n",
       "      <th>bonusGrade</th>\n",
       "      <th>grades</th>\n",
       "      <th>name</th>\n",
       "      <th>rollCallGrade</th>\n",
       "      <th>stageGrade</th>\n",
       "      <th>studentId</th>\n",
       "    </tr>\n",
       "  </thead>\n",
       "  <tbody>\n",
       "    <tr>\n",
       "      <th>0</th>\n",
       "      <td>5ba65fa698d846d7943d7013</td>\n",
       "      <td>10.5</td>\n",
       "      <td>[{'score': 72, 'name': '週考一'}, {'score': 78, '...</td>\n",
       "      <td>81b289dcc218f352b3a33901651cfce5</td>\n",
       "      <td>10</td>\n",
       "      <td>3</td>\n",
       "      <td>107202507</td>\n",
       "    </tr>\n",
       "    <tr>\n",
       "      <th>1</th>\n",
       "      <td>5ba65fa698d846d7943d7014</td>\n",
       "      <td>11.5</td>\n",
       "      <td>[{'score': 86, 'name': '週考一'}, {'score': 78, '...</td>\n",
       "      <td>97a05f1efbcadf2c039d1f83c4a5c7c0</td>\n",
       "      <td>10</td>\n",
       "      <td>4</td>\n",
       "      <td>107202510</td>\n",
       "    </tr>\n",
       "    <tr>\n",
       "      <th>2</th>\n",
       "      <td>5ba65fa698d846d7943d7015</td>\n",
       "      <td>6</td>\n",
       "      <td>[{'score': 51, 'name': '週考一'}, {'score': 93, '...</td>\n",
       "      <td>5dd7a481abf9e1cfc06d4b4bca79a88e</td>\n",
       "      <td>11</td>\n",
       "      <td>3</td>\n",
       "      <td>107203503</td>\n",
       "    </tr>\n",
       "  </tbody>\n",
       "</table>\n",
       "</div>"
      ],
      "text/plain": [
       "                        _id bonusGrade  \\\n",
       "0  5ba65fa698d846d7943d7013       10.5   \n",
       "1  5ba65fa698d846d7943d7014       11.5   \n",
       "2  5ba65fa698d846d7943d7015          6   \n",
       "\n",
       "                                              grades  \\\n",
       "0  [{'score': 72, 'name': '週考一'}, {'score': 78, '...   \n",
       "1  [{'score': 86, 'name': '週考一'}, {'score': 78, '...   \n",
       "2  [{'score': 51, 'name': '週考一'}, {'score': 93, '...   \n",
       "\n",
       "                               name rollCallGrade stageGrade  studentId  \n",
       "0  81b289dcc218f352b3a33901651cfce5            10          3  107202507  \n",
       "1  97a05f1efbcadf2c039d1f83c4a5c7c0            10          4  107202510  \n",
       "2  5dd7a481abf9e1cfc06d4b4bca79a88e            11          3  107203503  "
      ]
     },
     "execution_count": 9,
     "metadata": {},
     "output_type": "execute_result"
    }
   ],
   "source": [
    "db = conn['NCUx107_Pre_college_calculas']\n",
    "collection = db['students_grades']\n",
    "df = pd.DataFrame(list(collection.find()))\n",
    "df.head(3)"
   ]
  },
  {
   "cell_type": "code",
   "execution_count": 10,
   "metadata": {},
   "outputs": [],
   "source": [
    "score_df = df['stageGrade']\n",
    "score_df = score_df.dropna()\n",
    "score_df = score_df.astype(float)\n",
    "ncux_pre = score_df.astype(int)"
   ]
  },
  {
   "cell_type": "markdown",
   "metadata": {},
   "source": [
    "# CYCU"
   ]
  },
  {
   "cell_type": "markdown",
   "metadata": {},
   "source": [
    "### CYCU_1031SP"
   ]
  },
  {
   "cell_type": "code",
   "execution_count": 11,
   "metadata": {},
   "outputs": [
    {
     "data": {
      "text/plain": [
       "['MOOCs',\n",
       " '_id',\n",
       " '上課問答',\n",
       " '加分小考',\n",
       " '協作額外上機',\n",
       " '原始總分',\n",
       " '姓名',\n",
       " '學號',\n",
       " '小考一',\n",
       " '小考二',\n",
       " '最終成績',\n",
       " '有完成遊戲',\n",
       " '期中考',\n",
       " '期末考',\n",
       " '班級',\n",
       " '程式一',\n",
       " '程式三',\n",
       " '程式二',\n",
       " '線上成績',\n",
       " '線上表現']"
      ]
     },
     "execution_count": 11,
     "metadata": {},
     "output_type": "execute_result"
    }
   ],
   "source": [
    "db = conn['CYCU_1031SP']\n",
    "collection = db['1031bSP2']\n",
    "df = pd.DataFrame(list(collection.find()))\n",
    "list(df)"
   ]
  },
  {
   "cell_type": "code",
   "execution_count": 12,
   "metadata": {},
   "outputs": [],
   "source": [
    "score_df = df['最終成績']\n",
    "score_df = score_df.dropna()\n",
    "score_df = score_df.astype(float)\n",
    "cycu_1031sp = score_df.astype(int)"
   ]
  },
  {
   "cell_type": "markdown",
   "metadata": {},
   "source": [
    "### CYCU 1041SP"
   ]
  },
  {
   "cell_type": "code",
   "execution_count": 13,
   "metadata": {},
   "outputs": [
    {
     "data": {
      "text/html": [
       "<div>\n",
       "<style scoped>\n",
       "    .dataframe tbody tr th:only-of-type {\n",
       "        vertical-align: middle;\n",
       "    }\n",
       "\n",
       "    .dataframe tbody tr th {\n",
       "        vertical-align: top;\n",
       "    }\n",
       "\n",
       "    .dataframe thead th {\n",
       "        text-align: right;\n",
       "    }\n",
       "</style>\n",
       "<table border=\"1\" class=\"dataframe\">\n",
       "  <thead>\n",
       "    <tr style=\"text-align: right;\">\n",
       "      <th></th>\n",
       "      <th>MOOCs修課及格</th>\n",
       "      <th>Unnamed: 16</th>\n",
       "      <th>Unnamed: 17</th>\n",
       "      <th>Unnamed: 18</th>\n",
       "      <th>Unnamed: 19</th>\n",
       "      <th>Unnamed: 20</th>\n",
       "      <th>Unnamed: 21</th>\n",
       "      <th>Unnamed: 22</th>\n",
       "      <th>Unnamed: 23</th>\n",
       "      <th>Unnamed: 24</th>\n",
       "      <th>...</th>\n",
       "      <th>小考一</th>\n",
       "      <th>小考二</th>\n",
       "      <th>最終成績</th>\n",
       "      <th>期中考</th>\n",
       "      <th>期末考</th>\n",
       "      <th>程式一</th>\n",
       "      <th>程式三</th>\n",
       "      <th>程式二</th>\n",
       "      <th>線上成績</th>\n",
       "      <th>線上表現</th>\n",
       "    </tr>\n",
       "  </thead>\n",
       "  <tbody>\n",
       "    <tr>\n",
       "      <th>0</th>\n",
       "      <td>None</td>\n",
       "      <td>學號</td>\n",
       "      <td>姓名</td>\n",
       "      <td>期中考</td>\n",
       "      <td>期末考</td>\n",
       "      <td>程式一</td>\n",
       "      <td>程式二</td>\n",
       "      <td>程式三</td>\n",
       "      <td>第一次小考</td>\n",
       "      <td>第二次小考</td>\n",
       "      <td>...</td>\n",
       "      <td>52</td>\n",
       "      <td>0</td>\n",
       "      <td>28</td>\n",
       "      <td>55</td>\n",
       "      <td>15</td>\n",
       "      <td>0</td>\n",
       "      <td>0</td>\n",
       "      <td>0</td>\n",
       "      <td>1.836735</td>\n",
       "      <td>40.69</td>\n",
       "    </tr>\n",
       "    <tr>\n",
       "      <th>1</th>\n",
       "      <td>None</td>\n",
       "      <td>平均</td>\n",
       "      <td>None</td>\n",
       "      <td>44.43333333</td>\n",
       "      <td>33.2</td>\n",
       "      <td>None</td>\n",
       "      <td>None</td>\n",
       "      <td>None</td>\n",
       "      <td>None</td>\n",
       "      <td>None</td>\n",
       "      <td>...</td>\n",
       "      <td>84</td>\n",
       "      <td>0</td>\n",
       "      <td>40</td>\n",
       "      <td>23</td>\n",
       "      <td>30</td>\n",
       "      <td>80</td>\n",
       "      <td>0</td>\n",
       "      <td>0</td>\n",
       "      <td>20.612245</td>\n",
       "      <td>77.89</td>\n",
       "    </tr>\n",
       "    <tr>\n",
       "      <th>2</th>\n",
       "      <td>None</td>\n",
       "      <td>None</td>\n",
       "      <td>None</td>\n",
       "      <td>30%</td>\n",
       "      <td>30%</td>\n",
       "      <td>10%</td>\n",
       "      <td>10%</td>\n",
       "      <td>10%</td>\n",
       "      <td>5%</td>\n",
       "      <td>5%</td>\n",
       "      <td>...</td>\n",
       "      <td>52</td>\n",
       "      <td>83</td>\n",
       "      <td>80</td>\n",
       "      <td>63</td>\n",
       "      <td>55</td>\n",
       "      <td>103</td>\n",
       "      <td>92</td>\n",
       "      <td>0</td>\n",
       "      <td>43.061224</td>\n",
       "      <td>74.65</td>\n",
       "    </tr>\n",
       "  </tbody>\n",
       "</table>\n",
       "<p>3 rows × 33 columns</p>\n",
       "</div>"
      ],
      "text/plain": [
       "  MOOCs修課及格 Unnamed: 16 Unnamed: 17  Unnamed: 18 Unnamed: 19 Unnamed: 20  \\\n",
       "0      None          學號          姓名          期中考         期末考         程式一   \n",
       "1      None          平均        None  44.43333333        33.2        None   \n",
       "2      None        None        None          30%         30%         10%   \n",
       "\n",
       "  Unnamed: 21 Unnamed: 22 Unnamed: 23 Unnamed: 24  ...   小考一 小考二 最終成績 期中考 期末考  \\\n",
       "0         程式二         程式三       第一次小考       第二次小考  ...    52   0   28  55  15   \n",
       "1        None        None        None        None  ...    84   0   40  23  30   \n",
       "2         10%         10%          5%          5%  ...    52  83   80  63  55   \n",
       "\n",
       "   程式一 程式三 程式二       線上成績   線上表現  \n",
       "0    0   0   0   1.836735  40.69  \n",
       "1   80   0   0  20.612245  77.89  \n",
       "2  103  92   0  43.061224  74.65  \n",
       "\n",
       "[3 rows x 33 columns]"
      ]
     },
     "execution_count": 13,
     "metadata": {},
     "output_type": "execute_result"
    }
   ],
   "source": [
    "db = conn['CYCU_1041SP']\n",
    "collection = db['1041aSP2']\n",
    "df = pd.DataFrame(list(collection.find()))\n",
    "df.head(3)"
   ]
  },
  {
   "cell_type": "code",
   "execution_count": 14,
   "metadata": {},
   "outputs": [],
   "source": [
    "score_df = df['最終成績']\n",
    "score_df = score_df.dropna()\n",
    "score_df = score_df.astype(float)\n",
    "cycu_1041sp = score_df.astype(int)"
   ]
  },
  {
   "cell_type": "markdown",
   "metadata": {},
   "source": [
    "### CYCU 1051SP"
   ]
  },
  {
   "cell_type": "code",
   "execution_count": 15,
   "metadata": {},
   "outputs": [
    {
     "data": {
      "text/html": [
       "<div>\n",
       "<style scoped>\n",
       "    .dataframe tbody tr th:only-of-type {\n",
       "        vertical-align: middle;\n",
       "    }\n",
       "\n",
       "    .dataframe tbody tr th {\n",
       "        vertical-align: top;\n",
       "    }\n",
       "\n",
       "    .dataframe thead th {\n",
       "        text-align: right;\n",
       "    }\n",
       "</style>\n",
       "<table border=\"1\" class=\"dataframe\">\n",
       "  <thead>\n",
       "    <tr style=\"text-align: right;\">\n",
       "      <th></th>\n",
       "      <th>_id</th>\n",
       "      <th>上機</th>\n",
       "      <th>上課問答</th>\n",
       "      <th>上課題目</th>\n",
       "      <th>原始成績</th>\n",
       "      <th>姓名</th>\n",
       "      <th>學號</th>\n",
       "      <th>小考一</th>\n",
       "      <th>小考二</th>\n",
       "      <th>最終成績</th>\n",
       "      <th>期中考</th>\n",
       "      <th>期末考</th>\n",
       "      <th>程式一</th>\n",
       "      <th>程式三</th>\n",
       "      <th>程式二</th>\n",
       "      <th>線上成績</th>\n",
       "      <th>線上表現</th>\n",
       "    </tr>\n",
       "  </thead>\n",
       "  <tbody>\n",
       "    <tr>\n",
       "      <th>0</th>\n",
       "      <td>5ba66ab498d846d794436d34</td>\n",
       "      <td>25</td>\n",
       "      <td>10</td>\n",
       "      <td>50.0</td>\n",
       "      <td>37.41</td>\n",
       "      <td>5054c77c1bdb639d856b7f69b50eb98b</td>\n",
       "      <td>10124341</td>\n",
       "      <td>0</td>\n",
       "      <td>32</td>\n",
       "      <td>40</td>\n",
       "      <td>30</td>\n",
       "      <td>25</td>\n",
       "      <td>95</td>\n",
       "      <td>0</td>\n",
       "      <td>0</td>\n",
       "      <td>19.2</td>\n",
       "      <td>58.912917</td>\n",
       "    </tr>\n",
       "    <tr>\n",
       "      <th>1</th>\n",
       "      <td>5ba66ab498d846d794436d35</td>\n",
       "      <td>0</td>\n",
       "      <td>100</td>\n",
       "      <td>21.0</td>\n",
       "      <td>40.84</td>\n",
       "      <td>bb38a73037a2b66ed2447892135dcc19</td>\n",
       "      <td>10227129</td>\n",
       "      <td>52</td>\n",
       "      <td>56</td>\n",
       "      <td>46</td>\n",
       "      <td>30</td>\n",
       "      <td>28</td>\n",
       "      <td>0</td>\n",
       "      <td>0</td>\n",
       "      <td>54</td>\n",
       "      <td>14.0</td>\n",
       "      <td>58.195375</td>\n",
       "    </tr>\n",
       "    <tr>\n",
       "      <th>2</th>\n",
       "      <td>5ba66ab498d846d794436d36</td>\n",
       "      <td>75</td>\n",
       "      <td>0</td>\n",
       "      <td>0.0</td>\n",
       "      <td>75.16</td>\n",
       "      <td>5621e2fd33b4a0f00186ab9e68085bd1</td>\n",
       "      <td>10227137</td>\n",
       "      <td>68</td>\n",
       "      <td>80</td>\n",
       "      <td>77</td>\n",
       "      <td>75</td>\n",
       "      <td>65</td>\n",
       "      <td>94</td>\n",
       "      <td>0</td>\n",
       "      <td>0</td>\n",
       "      <td>82.6</td>\n",
       "      <td>65.966333</td>\n",
       "    </tr>\n",
       "  </tbody>\n",
       "</table>\n",
       "</div>"
      ],
      "text/plain": [
       "                        _id  上機  上課問答  上課題目   原始成績  \\\n",
       "0  5ba66ab498d846d794436d34  25    10  50.0  37.41   \n",
       "1  5ba66ab498d846d794436d35   0   100  21.0  40.84   \n",
       "2  5ba66ab498d846d794436d36  75     0   0.0  75.16   \n",
       "\n",
       "                                 姓名        學號  小考一  小考二  最終成績  期中考  期末考  程式一  \\\n",
       "0  5054c77c1bdb639d856b7f69b50eb98b  10124341    0   32    40   30   25   95   \n",
       "1  bb38a73037a2b66ed2447892135dcc19  10227129   52   56    46   30   28    0   \n",
       "2  5621e2fd33b4a0f00186ab9e68085bd1  10227137   68   80    77   75   65   94   \n",
       "\n",
       "   程式三  程式二  線上成績       線上表現  \n",
       "0    0    0  19.2  58.912917  \n",
       "1    0   54  14.0  58.195375  \n",
       "2    0    0  82.6  65.966333  "
      ]
     },
     "execution_count": 15,
     "metadata": {},
     "output_type": "execute_result"
    }
   ],
   "source": [
    "db = conn['CYCU_1051SP']\n",
    "collection = db['1051aSP2']\n",
    "df = pd.DataFrame(list(collection.find()))\n",
    "df.head(3)"
   ]
  },
  {
   "cell_type": "code",
   "execution_count": 16,
   "metadata": {},
   "outputs": [],
   "source": [
    "score_df = df['最終成績']\n",
    "score_df = score_df.dropna()\n",
    "score_df = score_df.astype(float)\n",
    "cycu_1051sp = score_df.astype(int)"
   ]
  },
  {
   "cell_type": "markdown",
   "metadata": {},
   "source": [
    "### CYCU 1042OS"
   ]
  },
  {
   "cell_type": "code",
   "execution_count": 17,
   "metadata": {},
   "outputs": [
    {
     "data": {
      "text/html": [
       "<div>\n",
       "<style scoped>\n",
       "    .dataframe tbody tr th:only-of-type {\n",
       "        vertical-align: middle;\n",
       "    }\n",
       "\n",
       "    .dataframe tbody tr th {\n",
       "        vertical-align: top;\n",
       "    }\n",
       "\n",
       "    .dataframe thead th {\n",
       "        text-align: right;\n",
       "    }\n",
       "</style>\n",
       "<table border=\"1\" class=\"dataframe\">\n",
       "  <thead>\n",
       "    <tr style=\"text-align: right;\">\n",
       "      <th></th>\n",
       "      <th>MOOCs修課及格</th>\n",
       "      <th>_id</th>\n",
       "      <th>上機次數</th>\n",
       "      <th>上課問答</th>\n",
       "      <th>原始總分</th>\n",
       "      <th>姓名</th>\n",
       "      <th>學號</th>\n",
       "      <th>最終成績</th>\n",
       "      <th>期中考</th>\n",
       "      <th>期末考</th>\n",
       "      <th>第一支程式</th>\n",
       "      <th>第一次小考</th>\n",
       "      <th>第三支程式</th>\n",
       "      <th>第三次小考</th>\n",
       "      <th>第二支程式</th>\n",
       "      <th>第二次小考</th>\n",
       "      <th>第四次小考</th>\n",
       "      <th>線上成績</th>\n",
       "      <th>線上表現</th>\n",
       "    </tr>\n",
       "  </thead>\n",
       "  <tbody>\n",
       "    <tr>\n",
       "      <th>0</th>\n",
       "      <td>None</td>\n",
       "      <td>5ba66ab098d846d7944301f9</td>\n",
       "      <td>2</td>\n",
       "      <td>20</td>\n",
       "      <td>48.65</td>\n",
       "      <td>87489bda6b4bd1373d774423d58cd4c4</td>\n",
       "      <td>10125134</td>\n",
       "      <td>67</td>\n",
       "      <td>30</td>\n",
       "      <td>20</td>\n",
       "      <td>98</td>\n",
       "      <td>72</td>\n",
       "      <td>70</td>\n",
       "      <td>72</td>\n",
       "      <td>88</td>\n",
       "      <td>89</td>\n",
       "      <td>36</td>\n",
       "      <td>76.6</td>\n",
       "      <td>81.26</td>\n",
       "    </tr>\n",
       "    <tr>\n",
       "      <th>1</th>\n",
       "      <td>None</td>\n",
       "      <td>5ba66ab098d846d7944301fa</td>\n",
       "      <td>2</td>\n",
       "      <td>100</td>\n",
       "      <td>56.10</td>\n",
       "      <td>fc8e80b9b11f98190c6af391238706c1</td>\n",
       "      <td>10220127</td>\n",
       "      <td>74</td>\n",
       "      <td>60</td>\n",
       "      <td>40</td>\n",
       "      <td>98</td>\n",
       "      <td>72</td>\n",
       "      <td>0</td>\n",
       "      <td>58</td>\n",
       "      <td>89</td>\n",
       "      <td>76</td>\n",
       "      <td>36</td>\n",
       "      <td>44.6</td>\n",
       "      <td>71.76</td>\n",
       "    </tr>\n",
       "    <tr>\n",
       "      <th>2</th>\n",
       "      <td>None</td>\n",
       "      <td>5ba66ab098d846d7944301fb</td>\n",
       "      <td>2</td>\n",
       "      <td>0</td>\n",
       "      <td>51.75</td>\n",
       "      <td>212cf45f5eabb72d948cc1d4165e1da7</td>\n",
       "      <td>10220140</td>\n",
       "      <td>67</td>\n",
       "      <td>53</td>\n",
       "      <td>28</td>\n",
       "      <td>95</td>\n",
       "      <td>76</td>\n",
       "      <td>28</td>\n",
       "      <td>34</td>\n",
       "      <td>74</td>\n",
       "      <td>79</td>\n",
       "      <td>48</td>\n",
       "      <td>60.0</td>\n",
       "      <td>87.62</td>\n",
       "    </tr>\n",
       "  </tbody>\n",
       "</table>\n",
       "</div>"
      ],
      "text/plain": [
       "  MOOCs修課及格                       _id  上機次數  上課問答   原始總分  \\\n",
       "0      None  5ba66ab098d846d7944301f9     2    20  48.65   \n",
       "1      None  5ba66ab098d846d7944301fa     2   100  56.10   \n",
       "2      None  5ba66ab098d846d7944301fb     2     0  51.75   \n",
       "\n",
       "                                 姓名        學號  最終成績  期中考  期末考  第一支程式  第一次小考  \\\n",
       "0  87489bda6b4bd1373d774423d58cd4c4  10125134    67   30   20     98     72   \n",
       "1  fc8e80b9b11f98190c6af391238706c1  10220127    74   60   40     98     72   \n",
       "2  212cf45f5eabb72d948cc1d4165e1da7  10220140    67   53   28     95     76   \n",
       "\n",
       "   第三支程式  第三次小考  第二支程式  第二次小考  第四次小考  線上成績   線上表現  \n",
       "0     70     72     88     89     36  76.6  81.26  \n",
       "1      0     58     89     76     36  44.6  71.76  \n",
       "2     28     34     74     79     48  60.0  87.62  "
      ]
     },
     "execution_count": 17,
     "metadata": {},
     "output_type": "execute_result"
    }
   ],
   "source": [
    "db = conn['CYCU_1042OS']\n",
    "collection = db['1042aOS2']\n",
    "df = pd.DataFrame(list(collection.find()))\n",
    "df.head(3)"
   ]
  },
  {
   "cell_type": "code",
   "execution_count": 18,
   "metadata": {},
   "outputs": [],
   "source": [
    "score_df = df['最終成績']\n",
    "score_df = score_df.dropna()\n",
    "score_df = score_df.astype(float)\n",
    "cycu_1042os = score_df.astype(int)"
   ]
  },
  {
   "cell_type": "markdown",
   "metadata": {},
   "source": [
    "### CYCU 1052OS"
   ]
  },
  {
   "cell_type": "code",
   "execution_count": 19,
   "metadata": {},
   "outputs": [
    {
     "data": {
      "text/html": [
       "<div>\n",
       "<style scoped>\n",
       "    .dataframe tbody tr th:only-of-type {\n",
       "        vertical-align: middle;\n",
       "    }\n",
       "\n",
       "    .dataframe tbody tr th {\n",
       "        vertical-align: top;\n",
       "    }\n",
       "\n",
       "    .dataframe thead th {\n",
       "        text-align: right;\n",
       "    }\n",
       "</style>\n",
       "<table border=\"1\" class=\"dataframe\">\n",
       "  <thead>\n",
       "    <tr style=\"text-align: right;\">\n",
       "      <th></th>\n",
       "      <th>_id</th>\n",
       "      <th>上課問答</th>\n",
       "      <th>原始分數</th>\n",
       "      <th>原始總分</th>\n",
       "      <th>姓名</th>\n",
       "      <th>學號</th>\n",
       "      <th>最終成績</th>\n",
       "      <th>期中考</th>\n",
       "      <th>期末考</th>\n",
       "      <th>第一支程式</th>\n",
       "      <th>第一次小考</th>\n",
       "      <th>第三支程式</th>\n",
       "      <th>第三次小考</th>\n",
       "      <th>第二支程式</th>\n",
       "      <th>第二次小考</th>\n",
       "      <th>第五次小考</th>\n",
       "      <th>第四次小考</th>\n",
       "      <th>線上作業測驗</th>\n",
       "      <th>線上表現</th>\n",
       "      <th>課堂練習</th>\n",
       "    </tr>\n",
       "  </thead>\n",
       "  <tbody>\n",
       "    <tr>\n",
       "      <th>0</th>\n",
       "      <td>5ba66aba98d846d79443f3f9</td>\n",
       "      <td>10</td>\n",
       "      <td>14.79</td>\n",
       "      <td>5.50</td>\n",
       "      <td>6e04e4abf4a5d39ee5667cdb67093d15</td>\n",
       "      <td>10227228</td>\n",
       "      <td>15</td>\n",
       "      <td>10</td>\n",
       "      <td>0.0</td>\n",
       "      <td>0</td>\n",
       "      <td>50</td>\n",
       "      <td>0</td>\n",
       "      <td>0</td>\n",
       "      <td>0</td>\n",
       "      <td>0</td>\n",
       "      <td>52</td>\n",
       "      <td>56</td>\n",
       "      <td>10.00</td>\n",
       "      <td>56.704167</td>\n",
       "      <td>10.0</td>\n",
       "    </tr>\n",
       "    <tr>\n",
       "      <th>1</th>\n",
       "      <td>5ba66aba98d846d79443f3fa</td>\n",
       "      <td>40</td>\n",
       "      <td>20.29</td>\n",
       "      <td>7.55</td>\n",
       "      <td>456a1db66cd270383537f6b890fcb77f</td>\n",
       "      <td>10227106</td>\n",
       "      <td>20</td>\n",
       "      <td>3</td>\n",
       "      <td>8.0</td>\n",
       "      <td>0</td>\n",
       "      <td>40</td>\n",
       "      <td>0</td>\n",
       "      <td>50</td>\n",
       "      <td>0</td>\n",
       "      <td>45</td>\n",
       "      <td>40</td>\n",
       "      <td>0</td>\n",
       "      <td>0.00</td>\n",
       "      <td>56.592361</td>\n",
       "      <td>72.2</td>\n",
       "    </tr>\n",
       "    <tr>\n",
       "      <th>2</th>\n",
       "      <td>5ba66aba98d846d79443f3fb</td>\n",
       "      <td>0</td>\n",
       "      <td>61.26</td>\n",
       "      <td>46.05</td>\n",
       "      <td>d16f3be7c1dd6b93dd89097481a03daa</td>\n",
       "      <td>10227232</td>\n",
       "      <td>61</td>\n",
       "      <td>15</td>\n",
       "      <td>23.0</td>\n",
       "      <td>98</td>\n",
       "      <td>40</td>\n",
       "      <td>98</td>\n",
       "      <td>43</td>\n",
       "      <td>98</td>\n",
       "      <td>65</td>\n",
       "      <td>28</td>\n",
       "      <td>44</td>\n",
       "      <td>40.61</td>\n",
       "      <td>78.784201</td>\n",
       "      <td>24.5</td>\n",
       "    </tr>\n",
       "  </tbody>\n",
       "</table>\n",
       "</div>"
      ],
      "text/plain": [
       "                        _id  上課問答   原始分數   原始總分  \\\n",
       "0  5ba66aba98d846d79443f3f9    10  14.79   5.50   \n",
       "1  5ba66aba98d846d79443f3fa    40  20.29   7.55   \n",
       "2  5ba66aba98d846d79443f3fb     0  61.26  46.05   \n",
       "\n",
       "                                 姓名        學號  最終成績  期中考   期末考  第一支程式  第一次小考  \\\n",
       "0  6e04e4abf4a5d39ee5667cdb67093d15  10227228    15   10   0.0      0     50   \n",
       "1  456a1db66cd270383537f6b890fcb77f  10227106    20    3   8.0      0     40   \n",
       "2  d16f3be7c1dd6b93dd89097481a03daa  10227232    61   15  23.0     98     40   \n",
       "\n",
       "   第三支程式  第三次小考  第二支程式  第二次小考  第五次小考  第四次小考  線上作業測驗       線上表現  課堂練習  \n",
       "0      0      0      0      0     52     56   10.00  56.704167  10.0  \n",
       "1      0     50      0     45     40      0    0.00  56.592361  72.2  \n",
       "2     98     43     98     65     28     44   40.61  78.784201  24.5  "
      ]
     },
     "execution_count": 19,
     "metadata": {},
     "output_type": "execute_result"
    }
   ],
   "source": [
    "db = conn['CYCU_1052OS']\n",
    "collection = db['1052bOS2']\n",
    "df = pd.DataFrame(list(collection.find()))\n",
    "df.head(3)"
   ]
  },
  {
   "cell_type": "code",
   "execution_count": 20,
   "metadata": {},
   "outputs": [],
   "source": [
    "score_df = df['最終成績']\n",
    "score_df = score_df.dropna()\n",
    "score_df = score_df.astype(float)\n",
    "cycu_1052os = score_df.astype(int)"
   ]
  },
  {
   "cell_type": "markdown",
   "metadata": {},
   "source": [
    "# KU"
   ]
  },
  {
   "cell_type": "markdown",
   "metadata": {},
   "source": [
    "### KU BR01"
   ]
  },
  {
   "cell_type": "code",
   "execution_count": 21,
   "metadata": {},
   "outputs": [
    {
     "data": {
      "text/html": [
       "<div>\n",
       "<style scoped>\n",
       "    .dataframe tbody tr th:only-of-type {\n",
       "        vertical-align: middle;\n",
       "    }\n",
       "\n",
       "    .dataframe tbody tr th {\n",
       "        vertical-align: top;\n",
       "    }\n",
       "\n",
       "    .dataframe thead th {\n",
       "        text-align: right;\n",
       "    }\n",
       "</style>\n",
       "<table border=\"1\" class=\"dataframe\">\n",
       "  <thead>\n",
       "    <tr style=\"text-align: right;\">\n",
       "      <th></th>\n",
       "      <th>_id</th>\n",
       "      <th>score</th>\n",
       "      <th>userid</th>\n",
       "    </tr>\n",
       "  </thead>\n",
       "  <tbody>\n",
       "    <tr>\n",
       "      <th>0</th>\n",
       "      <td>5ba2041898d846d794395461</td>\n",
       "      <td>80</td>\n",
       "      <td>ds101</td>\n",
       "    </tr>\n",
       "    <tr>\n",
       "      <th>1</th>\n",
       "      <td>5ba2041898d846d794395462</td>\n",
       "      <td>80</td>\n",
       "      <td>ds102</td>\n",
       "    </tr>\n",
       "    <tr>\n",
       "      <th>2</th>\n",
       "      <td>5ba2041898d846d794395463</td>\n",
       "      <td>60</td>\n",
       "      <td>ds103</td>\n",
       "    </tr>\n",
       "  </tbody>\n",
       "</table>\n",
       "</div>"
      ],
      "text/plain": [
       "                        _id  score userid\n",
       "0  5ba2041898d846d794395461     80  ds101\n",
       "1  5ba2041898d846d794395462     80  ds102\n",
       "2  5ba2041898d846d794395463     60  ds103"
      ]
     },
     "execution_count": 21,
     "metadata": {},
     "output_type": "execute_result"
    }
   ],
   "source": [
    "db = conn['KU_dataset_1']\n",
    "collection = db['data1_score.csv']\n",
    "df = pd.DataFrame(list(collection.find()))\n",
    "df.head(3)"
   ]
  },
  {
   "cell_type": "code",
   "execution_count": 22,
   "metadata": {},
   "outputs": [],
   "source": [
    "score_df = df['score']\n",
    "score_df = score_df.dropna()\n",
    "score_df = score_df.astype(float)\n",
    "ku_br01 = score_df.astype(int)"
   ]
  },
  {
   "cell_type": "markdown",
   "metadata": {},
   "source": [
    "### KU BR02"
   ]
  },
  {
   "cell_type": "code",
   "execution_count": 23,
   "metadata": {},
   "outputs": [
    {
     "data": {
      "text/html": [
       "<div>\n",
       "<style scoped>\n",
       "    .dataframe tbody tr th:only-of-type {\n",
       "        vertical-align: middle;\n",
       "    }\n",
       "\n",
       "    .dataframe tbody tr th {\n",
       "        vertical-align: top;\n",
       "    }\n",
       "\n",
       "    .dataframe thead th {\n",
       "        text-align: right;\n",
       "    }\n",
       "</style>\n",
       "<table border=\"1\" class=\"dataframe\">\n",
       "  <thead>\n",
       "    <tr style=\"text-align: right;\">\n",
       "      <th></th>\n",
       "      <th>_id</th>\n",
       "      <th>score</th>\n",
       "      <th>userid</th>\n",
       "    </tr>\n",
       "  </thead>\n",
       "  <tbody>\n",
       "    <tr>\n",
       "      <th>0</th>\n",
       "      <td>5ba2041a98d846d79439e577</td>\n",
       "      <td>100.0</td>\n",
       "      <td>ds201</td>\n",
       "    </tr>\n",
       "    <tr>\n",
       "      <th>1</th>\n",
       "      <td>5ba2041a98d846d79439e578</td>\n",
       "      <td>62.5</td>\n",
       "      <td>ds202</td>\n",
       "    </tr>\n",
       "    <tr>\n",
       "      <th>2</th>\n",
       "      <td>5ba2041a98d846d79439e579</td>\n",
       "      <td>87.5</td>\n",
       "      <td>ds203</td>\n",
       "    </tr>\n",
       "  </tbody>\n",
       "</table>\n",
       "</div>"
      ],
      "text/plain": [
       "                        _id  score userid\n",
       "0  5ba2041a98d846d79439e577  100.0  ds201\n",
       "1  5ba2041a98d846d79439e578   62.5  ds202\n",
       "2  5ba2041a98d846d79439e579   87.5  ds203"
      ]
     },
     "execution_count": 23,
     "metadata": {},
     "output_type": "execute_result"
    }
   ],
   "source": [
    "db = conn['KU_dataset_2']\n",
    "collection = db['data2_score.csv']\n",
    "df = pd.DataFrame(list(collection.find()))\n",
    "df.head(3)"
   ]
  },
  {
   "cell_type": "code",
   "execution_count": 24,
   "metadata": {},
   "outputs": [],
   "source": [
    "score_df = df['score']\n",
    "score_df = score_df.dropna()\n",
    "score_df = score_df.astype(float)\n",
    "ku_br02 = score_df.astype(int)"
   ]
  },
  {
   "cell_type": "markdown",
   "metadata": {},
   "source": [
    "# Visualization"
   ]
  },
  {
   "cell_type": "code",
   "execution_count": 25,
   "metadata": {},
   "outputs": [],
   "source": [
    "xmin, xmax = 0, 100 \n",
    "lnspc = np.linspace(xmin, xmax, 1000)\n",
    "\n",
    "m, s = stats.norm.fit(ncux_fc)  \n",
    "pdf_g_ncux_fc = stats.norm.pdf(lnspc, m, s) \n",
    "m, s = stats.norm.fit(ncux_chka)  \n",
    "pdf_g_ncux_chka = stats.norm.pdf(lnspc, m, s) \n",
    "m, s = stats.norm.fit(ncux_chkb)  \n",
    "pdf_g_ncux_chkb = stats.norm.pdf(lnspc, m, s) \n",
    "m, s = stats.norm.fit(ncux_pre)  \n",
    "pdf_g_ncux_pre = stats.norm.pdf(lnspc, m, s) \n",
    "\n",
    "m, s = stats.norm.fit(cycu_1031sp)  \n",
    "pdf_g_cycu_1031sp = stats.norm.pdf(lnspc, m, s)\n",
    "m, s = stats.norm.fit(cycu_1041sp)  \n",
    "pdf_g_cycu_1041sp = stats.norm.pdf(lnspc, m, s) \n",
    "m, s = stats.norm.fit(cycu_1051sp)  \n",
    "pdf_g_cycu_1051sp = stats.norm.pdf(lnspc, m, s) \n",
    "m, s = stats.norm.fit(cycu_1042os)  \n",
    "pdf_g_cycu_1042os = stats.norm.pdf(lnspc, m, s) \n",
    "m, s = stats.norm.fit(cycu_1052os)  \n",
    "pdf_g_cycu_1052os = stats.norm.pdf(lnspc, m, s) \n",
    "\n",
    "m, s = stats.norm.fit(ku_br01)  \n",
    "pdf_g_ku01 = stats.norm.pdf(lnspc, m, s) \n",
    "m, s = stats.norm.fit(ku_br02)  \n",
    "pdf_g_ku02 = stats.norm.pdf(lnspc, m, s)"
   ]
  },
  {
   "cell_type": "code",
   "execution_count": 26,
   "metadata": {},
   "outputs": [
    {
     "data": {
      "text/plain": [
       "array([0, 2, 2, 0, 0, 0, 0, 0, 1, 1], dtype=int32)"
      ]
     },
     "execution_count": 26,
     "metadata": {},
     "output_type": "execute_result"
    }
   ],
   "source": [
    "X = np.array([pdf_g_ncux_fc, \n",
    "              pdf_g_ncux_chka, \n",
    "              pdf_g_ncux_chkb, \n",
    "              #pdf_g_ncux_pre,\n",
    "              pdf_g_cycu_1031sp,\n",
    "              pdf_g_cycu_1041sp,\n",
    "              pdf_g_cycu_1051sp,\n",
    "              pdf_g_cycu_1042os,\n",
    "              pdf_g_cycu_1052os,\n",
    "              pdf_g_ku01, \n",
    "              pdf_g_ku02])\n",
    "kmeans = KMeans(n_clusters=3, random_state=0).fit(X)\n",
    "\n",
    "centroids = kmeans.cluster_centers_\n",
    "labels = kmeans.labels_\n",
    "labels"
   ]
  },
  {
   "cell_type": "code",
   "execution_count": 27,
   "metadata": {},
   "outputs": [],
   "source": [
    "ncux_fc_kurs = 'kurtosis=' + str(format(kurtosis(ncux_fc), '.2f'))\n",
    "ncux_fc_skew = 'skew=' + str(format(skew(ncux_fc), '.2f'))\n",
    "ncux_fc_type = 'type=' + str(labels[0])\n",
    "ncux_chka_kurs = 'kurtosis=' + str(format(kurtosis(ncux_chka), '.2f'))\n",
    "ncux_chka_skew = 'skew=' + str(format(skew(ncux_chka), '.2f'))\n",
    "ncux_chka_type = 'type=' + str(labels[1])\n",
    "ncux_chkb_kurs = 'kurtosis=' + str(format(kurtosis(ncux_chkb), '.2f'))\n",
    "ncux_chkb_skew = 'skew=' + str(format(skew(ncux_chkb), '.2f'))\n",
    "ncux_chkb_type = 'type=' + str(labels[2])\n",
    "\n",
    "cycu_1031sp_kurs = 'kurtosis=' + str(format(kurtosis(cycu_1031sp), '.2f'))\n",
    "cycu_1031sp_skew = 'skew=' + str(format(skew(cycu_1031sp), '.2f'))\n",
    "cycu_1031sp_type = 'type=' + str(labels[3])\n",
    "cycu_1041sp_kurs = 'kurtosis=' + str(format(kurtosis(cycu_1041sp), '.2f'))\n",
    "cycu_1041sp_skew = 'skew=' + str(format(skew(cycu_1041sp), '.2f'))\n",
    "cycu_1041sp_type = 'type=' + str(labels[4])\n",
    "cycu_1051sp_kurs = 'kurtosis=' + str(format(kurtosis(cycu_1051sp), '.2f'))\n",
    "cycu_1051sp_skew = 'skew=' + str(format(skew(cycu_1051sp), '.2f'))\n",
    "cycu_1051sp_type = 'type=' + str(labels[5])\n",
    "\n",
    "cycu_1042os_kurs = 'kurtosis=' + str(format(kurtosis(cycu_1052os), '.2f'))\n",
    "cycu_1042os_skew = 'skew=' + str(format(skew(cycu_1042os), '.2f'))\n",
    "cycu_1042os_type = 'type=' + str(labels[6])\n",
    "cycu_1052os_kurs = 'kurtosis=' + str(format(kurtosis(cycu_1052os), '.2f'))\n",
    "cycu_1052os_skew = 'skew=' + str(format(skew(cycu_1042os), '.2f'))\n",
    "cycu_1052os_type = 'type=' + str(labels[7])\n",
    "\n",
    "\n",
    "ku_br01_kurs = 'kurtosis=' + str(format(kurtosis(ku_br01), '.2f'))\n",
    "ku_br01_skew = 'skew=' + str(format(skew(ku_br01), '.2f'))\n",
    "ku_br01_type = 'type=' + str(labels[8])\n",
    "ku_br02_kurs = 'kurtosis=' + str(format(kurtosis(ku_br02), '.2f'))\n",
    "ku_br02_skew = 'skew=' + str(format(skew(ku_br02), '.2f'))\n",
    "ku_br02_type = 'type=' + str(labels[9])"
   ]
  },
  {
   "cell_type": "code",
   "execution_count": 32,
   "metadata": {},
   "outputs": [
    {
     "data": {
      "image/png": "[encoded data removed]",
      "text/plain": [
       "<Figure size 1008x720 with 10 Axes>"
      ]
     },
     "metadata": {},
     "output_type": "display_data"
    }
   ],
   "source": [
    "matplotlib.rcParams.update({'font.size': 12})\n",
    "\n",
    "plt.figure(figsize=(14, 10))\n",
    "plt.subplots_adjust(hspace=0.4, wspace=0.4)\n",
    "\n",
    "label = ['Validation', 'Testing']\n",
    "bins = 10\n",
    "ylimit = 0.09\n",
    "subplot_x = 4\n",
    "subplot_y = 3\n",
    "\n",
    "ax = plt.subplot(subplot_x, subplot_y, 1)\n",
    "plt.hist(ncux_fc, bins = bins, density=True)\n",
    "plt.plot(lnspc, pdf_g_ncux_fc, label=\"Norm\") # plot it\n",
    "plt.title('NCUx - Freshman calculas')\n",
    "plt.ylabel('Probability')\n",
    "plt.xlabel('Final Score')\n",
    "plt.xlim(0, 100)\n",
    "plt.ylim(0, ylimit)\n",
    "ax.annotate(ncux_fc_kurs, xy=(20, 0.075))\n",
    "ax.annotate(ncux_fc_skew, xy=(20, 0.055))\n",
    "ax.annotate(ncux_fc_type, xy=(20, 0.035))\n",
    "#plt.legend(['Training', 'Testing'])\n",
    "\n",
    "ax = plt.subplot(subplot_x, subplot_y, 2)\n",
    "plt.hist(ncux_chka, bins = bins, density=True)\n",
    "plt.plot(lnspc, pdf_g_ncux_chka, label=\"Norm\") # plot it\n",
    "plt.title('NCUx - CHKA')\n",
    "plt.ylabel('Probability')\n",
    "plt.xlabel('Final Score')\n",
    "plt.xlim(0, 100)\n",
    "plt.ylim(0, ylimit)\n",
    "ax.annotate(ncux_chka_kurs, xy=(20, 0.075))\n",
    "ax.annotate(ncux_chka_skew, xy=(20, 0.055))\n",
    "ax.annotate(ncux_chka_type, xy=(20, 0.035))\n",
    "\n",
    "ax = plt.subplot(subplot_x, subplot_y, 3)\n",
    "plt.hist(ncux_chkb, bins = bins, density=True)\n",
    "plt.plot(lnspc, pdf_g_ncux_chkb, label=\"Norm\") # plot it\n",
    "plt.title('NCUx - CHKB')\n",
    "plt.ylabel('Probability')\n",
    "plt.xlabel('Final Score')\n",
    "plt.xlim(0, 100)\n",
    "plt.ylim(0, ylimit)\n",
    "ax.annotate(ncux_chkb_kurs, xy=(20, 0.075))\n",
    "ax.annotate(ncux_chkb_skew, xy=(20, 0.055))\n",
    "ax.annotate(ncux_chka_type, xy=(20, 0.035))\n",
    "\n",
    "#plt.subplot(subplot_x, subplot_y, 4)\n",
    "#plt.hist(pdf_g_ncux_pre, bins = bins, density=True)\n",
    "#plt.plot(lnspc, pdf_g_ncux_pre, label=\"Norm\") # plot it\n",
    "#plt.title('NCUx - PRE')\n",
    "#plt.ylabel('Probability')\n",
    "#plt.xlabel('Final Score')\n",
    "#plt.xlim(0, 100)\n",
    "#plt.ylim(0, ylimit)\n",
    "\n",
    "\n",
    "\n",
    "ax = plt.subplot(subplot_x, subplot_y, 5)\n",
    "plt.hist(cycu_1031sp, bins = bins, density=True)\n",
    "plt.plot(lnspc, pdf_g_cycu_1031sp, label=\"Norm\") # plot it\n",
    "plt.title('CYCU - 1031SP')\n",
    "plt.ylabel('Probability')\n",
    "plt.xlabel('Final Score')\n",
    "plt.xlim(0, 100)\n",
    "plt.ylim(0, ylimit)\n",
    "ax.annotate(cycu_1031sp_kurs, xy=(20, 0.075))\n",
    "ax.annotate(cycu_1031sp_skew, xy=(20, 0.055))\n",
    "ax.annotate(cycu_1031sp_type, xy=(20, 0.035))\n",
    "\n",
    "ax = plt.subplot(subplot_x, subplot_y, 6)\n",
    "plt.hist(cycu_1041sp, bins = bins, density=True)\n",
    "plt.plot(lnspc, pdf_g_cycu_1041sp, label=\"Norm\") # plot it\n",
    "plt.title('CYCU - 1041SP')\n",
    "plt.ylabel('Probability')\n",
    "plt.xlabel('Final Score')\n",
    "plt.xlim(0, 100)\n",
    "plt.ylim(0, ylimit)\n",
    "ax.annotate(cycu_1041sp_kurs, xy=(20, 0.075))\n",
    "ax.annotate(cycu_1041sp_skew, xy=(20, 0.055))\n",
    "ax.annotate(cycu_1041sp_type, xy=(20, 0.035))\n",
    "\n",
    "ax = plt.subplot(subplot_x, subplot_y, 7)\n",
    "plt.hist(cycu_1051sp, bins = bins, density=True)\n",
    "plt.plot(lnspc, pdf_g_cycu_1051sp, label=\"Norm\") # plot it\n",
    "plt.title('CYCU - 1051SP')\n",
    "plt.ylabel('Probability')\n",
    "plt.xlabel('Final Score')\n",
    "plt.xlim(0, 100)\n",
    "plt.ylim(0, ylimit)\n",
    "ax.annotate(cycu_1051sp_kurs, xy=(20, 0.075))\n",
    "ax.annotate(cycu_1051sp_skew, xy=(20, 0.055))\n",
    "ax.annotate(cycu_1051sp_type, xy=(20, 0.035))\n",
    "\n",
    "ax = plt.subplot(subplot_x, subplot_y, 8)\n",
    "plt.hist(cycu_1042os, bins = bins, density=True)\n",
    "plt.plot(lnspc, pdf_g_cycu_1042os, label=\"Norm\") # plot it\n",
    "plt.title('CYCU - 1042OS')\n",
    "plt.ylabel('Probability')\n",
    "plt.xlabel('Final Score')\n",
    "plt.xlim(0, 100)\n",
    "plt.ylim(0, ylimit)\n",
    "ax.annotate(cycu_1042os_kurs, xy=(20, 0.075))\n",
    "ax.annotate(cycu_1042os_skew, xy=(20, 0.055))\n",
    "ax.annotate(cycu_1042os_type, xy=(20, 0.035))\n",
    "\n",
    "ax = plt.subplot(subplot_x, subplot_y, 9)\n",
    "plt.hist(cycu_1052os, bins = bins, density=True)\n",
    "plt.plot(lnspc, pdf_g_cycu_1042os, label=\"Norm\") # plot it\n",
    "plt.title('CYCU - 1052OS')\n",
    "plt.ylabel('Probability')\n",
    "plt.xlabel('Final Score')\n",
    "plt.xlim(0, 100)\n",
    "plt.ylim(0, ylimit)\n",
    "ax.annotate(cycu_1052os_kurs, xy=(20, 0.075))\n",
    "ax.annotate(cycu_1052os_skew, xy=(20, 0.055))\n",
    "ax.annotate(cycu_1052os_type, xy=(20, 0.035))\n",
    "\n",
    "\n",
    "ax = plt.subplot(subplot_x, subplot_y, 10)\n",
    "plt.hist(ku_br01, bins = 7, density=True)\n",
    "plt.plot(lnspc, pdf_g_ku01, label=\"Norm\") # plot it\n",
    "plt.title('KU - BookRoll-1')\n",
    "plt.ylabel('Probability')\n",
    "plt.xlabel('Final Score')\n",
    "plt.xlim(0, 100)\n",
    "plt.ylim(0, ylimit)\n",
    "ax.annotate(ku_br01_kurs, xy=(20, 0.075))\n",
    "ax.annotate(ku_br01_skew, xy=(20, 0.055))\n",
    "ax.annotate(ku_br01_type, xy=(20, 0.035))\n",
    "\n",
    "ax = plt.subplot(subplot_x, subplot_y, 11)\n",
    "plt.hist(ku_br02, bins = bins, density=True)\n",
    "plt.plot(lnspc, pdf_g_ku02, label=\"Norm\") # plot it\n",
    "plt.title('KU - BookRoll-2')\n",
    "plt.ylabel('Probability')\n",
    "plt.xlabel('Final Score')\n",
    "plt.xlim(0, 100)\n",
    "plt.ylim(0, ylimit)\n",
    "ax.annotate(ku_br02_kurs, xy=(20, 0.075))\n",
    "ax.annotate(ku_br02_skew, xy=(20, 0.055))\n",
    "ax.annotate(ku_br02_type, xy=(20, 0.035))\n",
    "\n",
    "\n",
    "plt.tight_layout()\n",
    "plt.savefig('./images/score_distribution.png', dpi=300)\n",
    "\n",
    "#plt.show()"
   ]
  },
  {
   "cell_type": "code",
   "execution_count": 29,
   "metadata": {
    "scrolled": true
   },
   "outputs": [
    {
     "data": {
      "image/png": "[encoded data removed]",
      "text/plain": [
       "<Figure size 432x288 with 1 Axes>"
      ]
     },
     "metadata": {},
     "output_type": "display_data"
    }
   ],
   "source": [
    "colors = [\"g.\",\"r.\", \"c.\"]\n",
    "#colors = [\"g.\",\"r.\"]\n",
    "\n",
    "for i in range(len(X)):\n",
    "    #print(\"coordinate:\",X[i], \"label:\", labels[i])\n",
    "    plt.plot(X[i][0], X[i][1], colors[labels[i]], markersize = 10)\n",
    "\n",
    "\n",
    "plt.scatter(centroids[:, 0],centroids[:, 1], marker = \"x\", s=150, linewidths = 5, zorder = 10)\n",
    "\n",
    "plt.show()"
   ]
  },
  {
   "cell_type": "code",
   "execution_count": 30,
   "metadata": {},
   "outputs": [
    {
     "data": {
      "image/png": "[encoded data removed]",
      "text/plain": [
       "<Figure size 432x288 with 1 Axes>"
      ]
     },
     "metadata": {},
     "output_type": "display_data"
    }
   ],
   "source": [
    "# k means determine k\n",
    "distortions = []\n",
    "K = range(1,10)\n",
    "for k in K:\n",
    "    kmeanModel = KMeans(n_clusters=k).fit(X)\n",
    "    kmeanModel.fit(X)\n",
    "    distortions.append(sum(np.min(cdist(X, kmeanModel.cluster_centers_, 'euclidean'), axis=1)) / X.shape[0])\n",
    "\n",
    "# Plot the elbow\n",
    "plt.plot(K, distortions, 'bx-')\n",
    "plt.xlabel('k')\n",
    "plt.ylabel('Distortion')\n",
    "plt.title('The Elbow Method showing the optimal k')\n",
    "plt.show()\n"
   ]
  },
  {
   "cell_type": "code",
   "execution_count": 31,
   "metadata": {},
   "outputs": [
    {
     "data": {
      "text/plain": [
       "'kurtosis=2.19'"
      ]
     },
     "execution_count": 31,
     "metadata": {},
     "output_type": "execute_result"
    }
   ],
   "source": [
    "'kurtosis=' + str(format(kurtosis(ku_br02), '.2f'))"
   ]
  },
  {
   "cell_type": "code",
   "execution_count": null,
   "metadata": {},
   "outputs": [],
   "source": []
  }
 ],
 "metadata": {
  "kernelspec": {
   "display_name": "Python 3",
   "language": "python",
   "name": "python3"
  },
  "language_info": {
   "codemirror_mode": {
    "name": "ipython",
    "version": 3
   },
   "file_extension": ".py",
   "mimetype": "text/x-python",
   "name": "python",
   "nbconvert_exporter": "python",
   "pygments_lexer": "ipython3",
   "version": "3.4.3"
  }
 },
 "nbformat": 4,
 "nbformat_minor": 2
}
