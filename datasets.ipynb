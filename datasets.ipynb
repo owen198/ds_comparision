{
 "cells": [
  {
   "cell_type": "code",
   "execution_count": 48,
   "metadata": {},
   "outputs": [
    {
     "name": "stderr",
     "output_type": "stream",
     "text": [
      "/usr/lib/python3.4/importlib/_bootstrap.py:321: RuntimeWarning: numpy.dtype size changed, may indicate binary incompatibility. Expected 96, got 88\n",
      "  return f(*args, **kwds)\n",
      "/usr/lib/python3.4/importlib/_bootstrap.py:321: RuntimeWarning: numpy.dtype size changed, may indicate binary incompatibility. Expected 96, got 88\n",
      "  return f(*args, **kwds)\n"
     ]
    }
   ],
   "source": [
    "import pandas as pd\n",
    "from pymongo import MongoClient\n",
    "import matplotlib\n",
    "import matplotlib.mlab as mlab\n",
    "import matplotlib.pyplot as plt\n",
    "from scipy.stats import kurtosis\n",
    "from scipy.stats import skew\n",
    "from scipy import stats  \n",
    "import numpy as np\n",
    "from sklearn.cluster import KMeans"
   ]
  },
  {
   "cell_type": "code",
   "execution_count": 2,
   "metadata": {},
   "outputs": [
    {
     "name": "stderr",
     "output_type": "stream",
     "text": [
      "/usr/local/lib/python3.4/dist-packages/ipykernel_launcher.py:2: DeprecationWarning: database_names is deprecated. Use list_database_names instead.\n",
      "  \n"
     ]
    },
    {
     "data": {
      "text/plain": [
       "['1031SP',\n",
       " '1041SP',\n",
       " '1042OS',\n",
       " '1051SP',\n",
       " '1052OS',\n",
       " 'KU_dataset_1',\n",
       " 'KU_dataset_2',\n",
       " 'NCUx107_Pre_college_calculas',\n",
       " 'OULAD',\n",
       " 'admin',\n",
       " 'chka',\n",
       " 'chkb',\n",
       " 'config',\n",
       " 'ets',\n",
       " 'local',\n",
       " 'test']"
      ]
     },
     "execution_count": 2,
     "metadata": {},
     "output_type": "execute_result"
    }
   ],
   "source": [
    "conn = MongoClient('140.115.53.147', 27017)\n",
    "conn.database_names()"
   ]
  },
  {
   "cell_type": "markdown",
   "metadata": {},
   "source": [
    "# NCUx"
   ]
  },
  {
   "cell_type": "markdown",
   "metadata": {},
   "source": [
    "### NCUx - Freshman calculas"
   ]
  },
  {
   "cell_type": "code",
   "execution_count": 3,
   "metadata": {},
   "outputs": [
    {
     "data": {
      "text/html": [
       "<div>\n",
       "<style scoped>\n",
       "    .dataframe tbody tr th:only-of-type {\n",
       "        vertical-align: middle;\n",
       "    }\n",
       "\n",
       "    .dataframe tbody tr th {\n",
       "        vertical-align: top;\n",
       "    }\n",
       "\n",
       "    .dataframe thead th {\n",
       "        text-align: right;\n",
       "    }\n",
       "</style>\n",
       "<table border=\"1\" class=\"dataframe\">\n",
       "  <thead>\n",
       "    <tr style=\"text-align: right;\">\n",
       "      <th></th>\n",
       "      <th>_id</th>\n",
       "      <th>final_score</th>\n",
       "      <th>username</th>\n",
       "    </tr>\n",
       "  </thead>\n",
       "  <tbody>\n",
       "    <tr>\n",
       "      <th>0</th>\n",
       "      <td>5ba22b0298d846d7943bf7b9</td>\n",
       "      <td>24.5</td>\n",
       "      <td>104602004</td>\n",
       "    </tr>\n",
       "    <tr>\n",
       "      <th>1</th>\n",
       "      <td>5ba22b0298d846d7943bf7ba</td>\n",
       "      <td>74.12</td>\n",
       "      <td>104602005</td>\n",
       "    </tr>\n",
       "    <tr>\n",
       "      <th>2</th>\n",
       "      <td>5ba22b0298d846d7943bf7bb</td>\n",
       "      <td>61.13</td>\n",
       "      <td>104602006</td>\n",
       "    </tr>\n",
       "  </tbody>\n",
       "</table>\n",
       "</div>"
      ],
      "text/plain": [
       "                        _id final_score   username\n",
       "0  5ba22b0298d846d7943bf7b9        24.5  104602004\n",
       "1  5ba22b0298d846d7943bf7ba       74.12  104602005\n",
       "2  5ba22b0298d846d7943bf7bb       61.13  104602006"
      ]
     },
     "execution_count": 3,
     "metadata": {},
     "output_type": "execute_result"
    }
   ],
   "source": [
    "db = conn['ets']\n",
    "collection = db['ets_final_score.json']\n",
    "df = pd.DataFrame(list(collection.find()))\n",
    "df.head(3)"
   ]
  },
  {
   "cell_type": "code",
   "execution_count": 4,
   "metadata": {},
   "outputs": [],
   "source": [
    "score_df = df['final_score']\n",
    "score_df = score_df.dropna()\n",
    "score_df = score_df.astype(float)\n",
    "ncux_fc = score_df.astype(int)"
   ]
  },
  {
   "cell_type": "code",
   "execution_count": 5,
   "metadata": {},
   "outputs": [
    {
     "name": "stdout",
     "output_type": "stream",
     "text": [
      "kurtosis= 0.6562621629633147\n",
      "skew= -0.5496566989303352\n"
     ]
    }
   ],
   "source": [
    "print('kurtosis=', kurtosis(ncux_fc))\n",
    "print('skew=', skew(ncux_fc))"
   ]
  },
  {
   "cell_type": "markdown",
   "metadata": {},
   "source": [
    "### NCUx - chka"
   ]
  },
  {
   "cell_type": "code",
   "execution_count": 6,
   "metadata": {},
   "outputs": [
    {
     "data": {
      "text/html": [
       "<div>\n",
       "<style scoped>\n",
       "    .dataframe tbody tr th:only-of-type {\n",
       "        vertical-align: middle;\n",
       "    }\n",
       "\n",
       "    .dataframe tbody tr th {\n",
       "        vertical-align: top;\n",
       "    }\n",
       "\n",
       "    .dataframe thead th {\n",
       "        text-align: right;\n",
       "    }\n",
       "</style>\n",
       "<table border=\"1\" class=\"dataframe\">\n",
       "  <thead>\n",
       "    <tr style=\"text-align: right;\">\n",
       "      <th></th>\n",
       "      <th>_id</th>\n",
       "      <th>final_score</th>\n",
       "      <th>username</th>\n",
       "    </tr>\n",
       "  </thead>\n",
       "  <tbody>\n",
       "    <tr>\n",
       "      <th>0</th>\n",
       "      <td>5ba22b0098d846d7943bea8d</td>\n",
       "      <td>20</td>\n",
       "      <td>Y1050166</td>\n",
       "    </tr>\n",
       "    <tr>\n",
       "      <th>1</th>\n",
       "      <td>5ba22b0098d846d7943bea8e</td>\n",
       "      <td>30</td>\n",
       "      <td>Y1050167</td>\n",
       "    </tr>\n",
       "    <tr>\n",
       "      <th>2</th>\n",
       "      <td>5ba22b0098d846d7943bea8f</td>\n",
       "      <td>10</td>\n",
       "      <td>Y1050168</td>\n",
       "    </tr>\n",
       "  </tbody>\n",
       "</table>\n",
       "</div>"
      ],
      "text/plain": [
       "                        _id final_score  username\n",
       "0  5ba22b0098d846d7943bea8d          20  Y1050166\n",
       "1  5ba22b0098d846d7943bea8e          30  Y1050167\n",
       "2  5ba22b0098d846d7943bea8f          10  Y1050168"
      ]
     },
     "execution_count": 6,
     "metadata": {},
     "output_type": "execute_result"
    }
   ],
   "source": [
    "db = conn['chka']\n",
    "collection = db['chka_final_score.json']\n",
    "df = pd.DataFrame(list(collection.find()))\n",
    "df.head(3)"
   ]
  },
  {
   "cell_type": "code",
   "execution_count": 7,
   "metadata": {},
   "outputs": [],
   "source": [
    "score_df = df['final_score']\n",
    "score_df = score_df.dropna()\n",
    "score_df = score_df.astype(float)\n",
    "ncux_chka = score_df.astype(int)"
   ]
  },
  {
   "cell_type": "markdown",
   "metadata": {},
   "source": [
    "### NCUx - chkb"
   ]
  },
  {
   "cell_type": "code",
   "execution_count": 8,
   "metadata": {},
   "outputs": [
    {
     "data": {
      "text/html": [
       "<div>\n",
       "<style scoped>\n",
       "    .dataframe tbody tr th:only-of-type {\n",
       "        vertical-align: middle;\n",
       "    }\n",
       "\n",
       "    .dataframe tbody tr th {\n",
       "        vertical-align: top;\n",
       "    }\n",
       "\n",
       "    .dataframe thead th {\n",
       "        text-align: right;\n",
       "    }\n",
       "</style>\n",
       "<table border=\"1\" class=\"dataframe\">\n",
       "  <thead>\n",
       "    <tr style=\"text-align: right;\">\n",
       "      <th></th>\n",
       "      <th>_id</th>\n",
       "      <th>final_score</th>\n",
       "      <th>username</th>\n",
       "    </tr>\n",
       "  </thead>\n",
       "  <tbody>\n",
       "    <tr>\n",
       "      <th>0</th>\n",
       "      <td>5ba22b0198d846d7943bf1ad</td>\n",
       "      <td>10</td>\n",
       "      <td>Y1050281</td>\n",
       "    </tr>\n",
       "    <tr>\n",
       "      <th>1</th>\n",
       "      <td>5ba22b0198d846d7943bf1ae</td>\n",
       "      <td>10</td>\n",
       "      <td>Y1050282</td>\n",
       "    </tr>\n",
       "    <tr>\n",
       "      <th>2</th>\n",
       "      <td>5ba22b0198d846d7943bf1af</td>\n",
       "      <td>20</td>\n",
       "      <td>Y1050283</td>\n",
       "    </tr>\n",
       "  </tbody>\n",
       "</table>\n",
       "</div>"
      ],
      "text/plain": [
       "                        _id final_score  username\n",
       "0  5ba22b0198d846d7943bf1ad          10  Y1050281\n",
       "1  5ba22b0198d846d7943bf1ae          10  Y1050282\n",
       "2  5ba22b0198d846d7943bf1af          20  Y1050283"
      ]
     },
     "execution_count": 8,
     "metadata": {},
     "output_type": "execute_result"
    }
   ],
   "source": [
    "db = conn['chkb']\n",
    "collection = db['chkb_final_score.json']\n",
    "df = pd.DataFrame(list(collection.find()))\n",
    "df.head(3)"
   ]
  },
  {
   "cell_type": "code",
   "execution_count": 9,
   "metadata": {},
   "outputs": [],
   "source": [
    "score_df = df['final_score']\n",
    "score_df = score_df.dropna()\n",
    "score_df = score_df.astype(float)\n",
    "ncux_chkb = score_df.astype(int)"
   ]
  },
  {
   "cell_type": "markdown",
   "metadata": {},
   "source": [
    "# CYCU"
   ]
  },
  {
   "cell_type": "markdown",
   "metadata": {},
   "source": [
    "### CYCU 1041SP"
   ]
  },
  {
   "cell_type": "code",
   "execution_count": 10,
   "metadata": {},
   "outputs": [
    {
     "data": {
      "text/html": [
       "<div>\n",
       "<style scoped>\n",
       "    .dataframe tbody tr th:only-of-type {\n",
       "        vertical-align: middle;\n",
       "    }\n",
       "\n",
       "    .dataframe tbody tr th {\n",
       "        vertical-align: top;\n",
       "    }\n",
       "\n",
       "    .dataframe thead th {\n",
       "        text-align: right;\n",
       "    }\n",
       "</style>\n",
       "<table border=\"1\" class=\"dataframe\">\n",
       "  <thead>\n",
       "    <tr style=\"text-align: right;\">\n",
       "      <th></th>\n",
       "      <th>MOOCs修課及格</th>\n",
       "      <th>_id</th>\n",
       "      <th>上機次數</th>\n",
       "      <th>上課問答</th>\n",
       "      <th>原始總分</th>\n",
       "      <th>學號</th>\n",
       "      <th>最終成績</th>\n",
       "      <th>期中考</th>\n",
       "      <th>期末考</th>\n",
       "      <th>第一支程式</th>\n",
       "      <th>第一次小考</th>\n",
       "      <th>第三支程式</th>\n",
       "      <th>第三次小考</th>\n",
       "      <th>第二支程式</th>\n",
       "      <th>第二次小考</th>\n",
       "      <th>第四次小考</th>\n",
       "      <th>線上成績</th>\n",
       "      <th>線上表現</th>\n",
       "    </tr>\n",
       "  </thead>\n",
       "  <tbody>\n",
       "    <tr>\n",
       "      <th>0</th>\n",
       "      <td>None</td>\n",
       "      <td>5ba22af298d846d7943ac506</td>\n",
       "      <td>2</td>\n",
       "      <td>100</td>\n",
       "      <td>51.25</td>\n",
       "      <td>10115240</td>\n",
       "      <td>75</td>\n",
       "      <td>88</td>\n",
       "      <td>20</td>\n",
       "      <td>98</td>\n",
       "      <td>92</td>\n",
       "      <td>0</td>\n",
       "      <td>85</td>\n",
       "      <td>0</td>\n",
       "      <td>89</td>\n",
       "      <td>56</td>\n",
       "      <td>86.8</td>\n",
       "      <td>87.00</td>\n",
       "    </tr>\n",
       "    <tr>\n",
       "      <th>1</th>\n",
       "      <td>None</td>\n",
       "      <td>5ba22af298d846d7943ac507</td>\n",
       "      <td>2</td>\n",
       "      <td>100</td>\n",
       "      <td>56.10</td>\n",
       "      <td>10220127</td>\n",
       "      <td>74</td>\n",
       "      <td>60</td>\n",
       "      <td>40</td>\n",
       "      <td>98</td>\n",
       "      <td>72</td>\n",
       "      <td>0</td>\n",
       "      <td>58</td>\n",
       "      <td>89</td>\n",
       "      <td>76</td>\n",
       "      <td>36</td>\n",
       "      <td>44.6</td>\n",
       "      <td>71.76</td>\n",
       "    </tr>\n",
       "    <tr>\n",
       "      <th>2</th>\n",
       "      <td>None</td>\n",
       "      <td>5ba22af298d846d7943ac508</td>\n",
       "      <td>2</td>\n",
       "      <td>0</td>\n",
       "      <td>5.45</td>\n",
       "      <td>10220120</td>\n",
       "      <td>12</td>\n",
       "      <td>3</td>\n",
       "      <td>0</td>\n",
       "      <td>0</td>\n",
       "      <td>44</td>\n",
       "      <td>0</td>\n",
       "      <td>0</td>\n",
       "      <td>0</td>\n",
       "      <td>47</td>\n",
       "      <td>0</td>\n",
       "      <td>24.0</td>\n",
       "      <td>42.23</td>\n",
       "    </tr>\n",
       "  </tbody>\n",
       "</table>\n",
       "</div>"
      ],
      "text/plain": [
       "  MOOCs修課及格                       _id  上機次數  上課問答   原始總分        學號  最終成績  期中考  \\\n",
       "0      None  5ba22af298d846d7943ac506     2   100  51.25  10115240    75   88   \n",
       "1      None  5ba22af298d846d7943ac507     2   100  56.10  10220127    74   60   \n",
       "2      None  5ba22af298d846d7943ac508     2     0   5.45  10220120    12    3   \n",
       "\n",
       "   期末考  第一支程式  第一次小考  第三支程式  第三次小考  第二支程式  第二次小考  第四次小考  線上成績   線上表現  \n",
       "0   20     98     92      0     85      0     89     56  86.8  87.00  \n",
       "1   40     98     72      0     58     89     76     36  44.6  71.76  \n",
       "2    0      0     44      0      0      0     47      0  24.0  42.23  "
      ]
     },
     "execution_count": 10,
     "metadata": {},
     "output_type": "execute_result"
    }
   ],
   "source": [
    "db = conn['1041SP']\n",
    "collection = db['1042aOS2.json']\n",
    "df = pd.DataFrame(list(collection.find()))\n",
    "df.head(3)"
   ]
  },
  {
   "cell_type": "code",
   "execution_count": 11,
   "metadata": {},
   "outputs": [],
   "source": [
    "score_df = df['線上成績']\n",
    "score_df = score_df.dropna()\n",
    "score_df = score_df.astype(float)\n",
    "cycu_1041sp = score_df.astype(int)"
   ]
  },
  {
   "cell_type": "markdown",
   "metadata": {},
   "source": [
    "### CYCU 1051SP"
   ]
  },
  {
   "cell_type": "code",
   "execution_count": 12,
   "metadata": {},
   "outputs": [
    {
     "data": {
      "text/html": [
       "<div>\n",
       "<style scoped>\n",
       "    .dataframe tbody tr th:only-of-type {\n",
       "        vertical-align: middle;\n",
       "    }\n",
       "\n",
       "    .dataframe tbody tr th {\n",
       "        vertical-align: top;\n",
       "    }\n",
       "\n",
       "    .dataframe thead th {\n",
       "        text-align: right;\n",
       "    }\n",
       "</style>\n",
       "<table border=\"1\" class=\"dataframe\">\n",
       "  <thead>\n",
       "    <tr style=\"text-align: right;\">\n",
       "      <th></th>\n",
       "      <th>_id</th>\n",
       "      <th>學年</th>\n",
       "      <th>學號</th>\n",
       "      <th>小考</th>\n",
       "      <th>期中考</th>\n",
       "      <th>期末小考</th>\n",
       "      <th>第一章作業</th>\n",
       "      <th>第一章測驗</th>\n",
       "      <th>第七章作業</th>\n",
       "      <th>第七章測驗</th>\n",
       "      <th>...</th>\n",
       "      <th>第八章測驗</th>\n",
       "      <th>第六章作業</th>\n",
       "      <th>第六章測驗</th>\n",
       "      <th>第四章作業</th>\n",
       "      <th>第四章測驗</th>\n",
       "      <th>系級</th>\n",
       "      <th>總分</th>\n",
       "      <th>選擇題小考一</th>\n",
       "      <th>選擇題小考二</th>\n",
       "      <th>開課代碼</th>\n",
       "    </tr>\n",
       "  </thead>\n",
       "  <tbody>\n",
       "    <tr>\n",
       "      <th>0</th>\n",
       "      <td>5ba22af798d846d7943b1a15</td>\n",
       "      <td>1051</td>\n",
       "      <td>10124341</td>\n",
       "      <td>NaN</td>\n",
       "      <td>NaN</td>\n",
       "      <td>40.0</td>\n",
       "      <td>100.0</td>\n",
       "      <td>80.0</td>\n",
       "      <td>NaN</td>\n",
       "      <td>40.0</td>\n",
       "      <td>...</td>\n",
       "      <td>90.0</td>\n",
       "      <td>NaN</td>\n",
       "      <td>30.0</td>\n",
       "      <td>0.0</td>\n",
       "      <td>NaN</td>\n",
       "      <td>資訊四甲</td>\n",
       "      <td>9.6</td>\n",
       "      <td>NaN</td>\n",
       "      <td>32.0</td>\n",
       "      <td>CS207G</td>\n",
       "    </tr>\n",
       "    <tr>\n",
       "      <th>1</th>\n",
       "      <td>5ba22af798d846d7943b1a16</td>\n",
       "      <td>1051</td>\n",
       "      <td>10227129</td>\n",
       "      <td>NaN</td>\n",
       "      <td>NaN</td>\n",
       "      <td>0.0</td>\n",
       "      <td>NaN</td>\n",
       "      <td>NaN</td>\n",
       "      <td>NaN</td>\n",
       "      <td>50.0</td>\n",
       "      <td>...</td>\n",
       "      <td>100.0</td>\n",
       "      <td>NaN</td>\n",
       "      <td>NaN</td>\n",
       "      <td>NaN</td>\n",
       "      <td>NaN</td>\n",
       "      <td>資訊工程學系</td>\n",
       "      <td>7.0</td>\n",
       "      <td>52.0</td>\n",
       "      <td>52.0</td>\n",
       "      <td>CS207G</td>\n",
       "    </tr>\n",
       "    <tr>\n",
       "      <th>2</th>\n",
       "      <td>5ba22af798d846d7943b1a17</td>\n",
       "      <td>1051</td>\n",
       "      <td>10227118</td>\n",
       "      <td>80.0</td>\n",
       "      <td>90.0</td>\n",
       "      <td>NaN</td>\n",
       "      <td>NaN</td>\n",
       "      <td>40.0</td>\n",
       "      <td>NaN</td>\n",
       "      <td>NaN</td>\n",
       "      <td>...</td>\n",
       "      <td>NaN</td>\n",
       "      <td>NaN</td>\n",
       "      <td>NaN</td>\n",
       "      <td>NaN</td>\n",
       "      <td>NaN</td>\n",
       "      <td>資訊四甲</td>\n",
       "      <td>17.8</td>\n",
       "      <td>NaN</td>\n",
       "      <td>NaN</td>\n",
       "      <td>CS207G</td>\n",
       "    </tr>\n",
       "  </tbody>\n",
       "</table>\n",
       "<p>3 rows × 30 columns</p>\n",
       "</div>"
      ],
      "text/plain": [
       "                        _id    學年        學號    小考   期中考  期末小考  第一章作業  第一章測驗  \\\n",
       "0  5ba22af798d846d7943b1a15  1051  10124341   NaN   NaN  40.0  100.0   80.0   \n",
       "1  5ba22af798d846d7943b1a16  1051  10227129   NaN   NaN   0.0    NaN    NaN   \n",
       "2  5ba22af798d846d7943b1a17  1051  10227118  80.0  90.0   NaN    NaN   40.0   \n",
       "\n",
       "   第七章作業  第七章測驗   ...    第八章測驗  第六章作業  第六章測驗  第四章作業  第四章測驗      系級    總分  \\\n",
       "0    NaN   40.0   ...     90.0    NaN   30.0    0.0    NaN    資訊四甲   9.6   \n",
       "1    NaN   50.0   ...    100.0    NaN    NaN    NaN    NaN  資訊工程學系   7.0   \n",
       "2    NaN    NaN   ...      NaN    NaN    NaN    NaN    NaN    資訊四甲  17.8   \n",
       "\n",
       "   選擇題小考一  選擇題小考二    開課代碼  \n",
       "0     NaN    32.0  CS207G  \n",
       "1    52.0    52.0  CS207G  \n",
       "2     NaN     NaN  CS207G  \n",
       "\n",
       "[3 rows x 30 columns]"
      ]
     },
     "execution_count": 12,
     "metadata": {},
     "output_type": "execute_result"
    }
   ],
   "source": [
    "db = conn['1051SP']\n",
    "collection = db['1051aSP_grades.json']\n",
    "df = pd.DataFrame(list(collection.find()))\n",
    "df.head(3)"
   ]
  },
  {
   "cell_type": "code",
   "execution_count": 13,
   "metadata": {},
   "outputs": [],
   "source": [
    "score_df = df['總分']\n",
    "score_df = score_df.dropna()\n",
    "score_df = score_df.astype(float)\n",
    "cycu_1051sp = score_df.astype(int)"
   ]
  },
  {
   "cell_type": "markdown",
   "metadata": {},
   "source": [
    "### CYCU 1042OS"
   ]
  },
  {
   "cell_type": "code",
   "execution_count": 21,
   "metadata": {},
   "outputs": [
    {
     "data": {
      "text/html": [
       "<div>\n",
       "<style scoped>\n",
       "    .dataframe tbody tr th:only-of-type {\n",
       "        vertical-align: middle;\n",
       "    }\n",
       "\n",
       "    .dataframe tbody tr th {\n",
       "        vertical-align: top;\n",
       "    }\n",
       "\n",
       "    .dataframe thead th {\n",
       "        text-align: right;\n",
       "    }\n",
       "</style>\n",
       "<table border=\"1\" class=\"dataframe\">\n",
       "  <thead>\n",
       "    <tr style=\"text-align: right;\">\n",
       "      <th></th>\n",
       "      <th>_id</th>\n",
       "      <th>備註</th>\n",
       "      <th>學年</th>\n",
       "      <th>學號</th>\n",
       "      <th>期中考</th>\n",
       "      <th>期末考</th>\n",
       "      <th>第一次選擇題小考</th>\n",
       "      <th>第一章作業</th>\n",
       "      <th>第一章測驗</th>\n",
       "      <th>第七章作業</th>\n",
       "      <th>...</th>\n",
       "      <th>第十二章作業</th>\n",
       "      <th>第十二章測驗</th>\n",
       "      <th>第十章作業</th>\n",
       "      <th>第十章測驗</th>\n",
       "      <th>第四次選擇題小考</th>\n",
       "      <th>第四章作業</th>\n",
       "      <th>第四章測驗</th>\n",
       "      <th>系級</th>\n",
       "      <th>總分</th>\n",
       "      <th>開課代碼</th>\n",
       "    </tr>\n",
       "  </thead>\n",
       "  <tbody>\n",
       "    <tr>\n",
       "      <th>0</th>\n",
       "      <td>5ba22af398d846d7943ac628</td>\n",
       "      <td>None</td>\n",
       "      <td>1042</td>\n",
       "      <td>9924137</td>\n",
       "      <td>40.0</td>\n",
       "      <td>NaN</td>\n",
       "      <td>8.0</td>\n",
       "      <td>100.0</td>\n",
       "      <td>40.0</td>\n",
       "      <td>NaN</td>\n",
       "      <td>...</td>\n",
       "      <td>NaN</td>\n",
       "      <td>NaN</td>\n",
       "      <td>NaN</td>\n",
       "      <td>NaN</td>\n",
       "      <td>NaN</td>\n",
       "      <td>90.0</td>\n",
       "      <td>NaN</td>\n",
       "      <td>工業與系統工程學系</td>\n",
       "      <td>9.5</td>\n",
       "      <td>CS208G</td>\n",
       "    </tr>\n",
       "    <tr>\n",
       "      <th>1</th>\n",
       "      <td>5ba22af398d846d7943ac629</td>\n",
       "      <td>None</td>\n",
       "      <td>1042</td>\n",
       "      <td>10220127</td>\n",
       "      <td>NaN</td>\n",
       "      <td>NaN</td>\n",
       "      <td>68.0</td>\n",
       "      <td>100.0</td>\n",
       "      <td>60.0</td>\n",
       "      <td>100.0</td>\n",
       "      <td>...</td>\n",
       "      <td>NaN</td>\n",
       "      <td>NaN</td>\n",
       "      <td>NaN</td>\n",
       "      <td>NaN</td>\n",
       "      <td>NaN</td>\n",
       "      <td>100.0</td>\n",
       "      <td>NaN</td>\n",
       "      <td>電機資訊學院學士班</td>\n",
       "      <td>22.3</td>\n",
       "      <td>CS208G</td>\n",
       "    </tr>\n",
       "    <tr>\n",
       "      <th>2</th>\n",
       "      <td>5ba22af398d846d7943ac62a</td>\n",
       "      <td>None</td>\n",
       "      <td>1042</td>\n",
       "      <td>10220140</td>\n",
       "      <td>40.0</td>\n",
       "      <td>65.0</td>\n",
       "      <td>80.0</td>\n",
       "      <td>100.0</td>\n",
       "      <td>70.0</td>\n",
       "      <td>NaN</td>\n",
       "      <td>...</td>\n",
       "      <td>NaN</td>\n",
       "      <td>60.0</td>\n",
       "      <td>100.0</td>\n",
       "      <td>80.0</td>\n",
       "      <td>48.0</td>\n",
       "      <td>100.0</td>\n",
       "      <td>60.0</td>\n",
       "      <td>電機資訊學院學士班</td>\n",
       "      <td>30.0</td>\n",
       "      <td>CS208G</td>\n",
       "    </tr>\n",
       "  </tbody>\n",
       "</table>\n",
       "<p>3 rows × 38 columns</p>\n",
       "</div>"
      ],
      "text/plain": [
       "                        _id    備註    學年        學號   期中考   期末考  第一次選擇題小考  \\\n",
       "0  5ba22af398d846d7943ac628  None  1042   9924137  40.0   NaN       8.0   \n",
       "1  5ba22af398d846d7943ac629  None  1042  10220127   NaN   NaN      68.0   \n",
       "2  5ba22af398d846d7943ac62a  None  1042  10220140  40.0  65.0      80.0   \n",
       "\n",
       "   第一章作業  第一章測驗  第七章作業   ...    第十二章作業  第十二章測驗  第十章作業  第十章測驗  第四次選擇題小考  第四章作業  \\\n",
       "0  100.0   40.0    NaN   ...       NaN     NaN    NaN    NaN       NaN   90.0   \n",
       "1  100.0   60.0  100.0   ...       NaN     NaN    NaN    NaN       NaN  100.0   \n",
       "2  100.0   70.0    NaN   ...       NaN    60.0  100.0   80.0      48.0  100.0   \n",
       "\n",
       "   第四章測驗         系級    總分    開課代碼  \n",
       "0    NaN  工業與系統工程學系   9.5  CS208G  \n",
       "1    NaN  電機資訊學院學士班  22.3  CS208G  \n",
       "2   60.0  電機資訊學院學士班  30.0  CS208G  \n",
       "\n",
       "[3 rows x 38 columns]"
      ]
     },
     "execution_count": 21,
     "metadata": {},
     "output_type": "execute_result"
    }
   ],
   "source": [
    "db = conn['1042OS']\n",
    "collection = db['1042aOS_grades.json']\n",
    "df = pd.DataFrame(list(collection.find()))\n",
    "df.head(3)"
   ]
  },
  {
   "cell_type": "code",
   "execution_count": 22,
   "metadata": {},
   "outputs": [],
   "source": [
    "score_df = df['總分']\n",
    "score_df = score_df.dropna()\n",
    "score_df = score_df.astype(float)\n",
    "cycu_1042os = score_df.astype(int)"
   ]
  },
  {
   "cell_type": "markdown",
   "metadata": {},
   "source": [
    "### CYCU 1052OS"
   ]
  },
  {
   "cell_type": "code",
   "execution_count": 14,
   "metadata": {},
   "outputs": [
    {
     "data": {
      "text/html": [
       "<div>\n",
       "<style scoped>\n",
       "    .dataframe tbody tr th:only-of-type {\n",
       "        vertical-align: middle;\n",
       "    }\n",
       "\n",
       "    .dataframe tbody tr th {\n",
       "        vertical-align: top;\n",
       "    }\n",
       "\n",
       "    .dataframe thead th {\n",
       "        text-align: right;\n",
       "    }\n",
       "</style>\n",
       "<table border=\"1\" class=\"dataframe\">\n",
       "  <thead>\n",
       "    <tr style=\"text-align: right;\">\n",
       "      <th></th>\n",
       "      <th>_id</th>\n",
       "      <th>備註</th>\n",
       "      <th>學年</th>\n",
       "      <th>學號</th>\n",
       "      <th>期中考</th>\n",
       "      <th>期末考</th>\n",
       "      <th>第一次選擇題小考</th>\n",
       "      <th>第一章作業</th>\n",
       "      <th>第一章測驗</th>\n",
       "      <th>第七章作業</th>\n",
       "      <th>...</th>\n",
       "      <th>第十二章作業</th>\n",
       "      <th>第十二章測驗</th>\n",
       "      <th>第十章作業</th>\n",
       "      <th>第十章測驗</th>\n",
       "      <th>第四次選擇題小考</th>\n",
       "      <th>第四章作業</th>\n",
       "      <th>第四章測驗</th>\n",
       "      <th>系級</th>\n",
       "      <th>總分</th>\n",
       "      <th>開課代碼</th>\n",
       "    </tr>\n",
       "  </thead>\n",
       "  <tbody>\n",
       "    <tr>\n",
       "      <th>0</th>\n",
       "      <td>5ba22afb98d846d7943b5d94</td>\n",
       "      <td>None</td>\n",
       "      <td>1052</td>\n",
       "      <td>3102535</td>\n",
       "      <td>55.0</td>\n",
       "      <td>85.0</td>\n",
       "      <td>NaN</td>\n",
       "      <td>100.0</td>\n",
       "      <td>50.0</td>\n",
       "      <td>NaN</td>\n",
       "      <td>...</td>\n",
       "      <td>100.0</td>\n",
       "      <td>80.0</td>\n",
       "      <td>100.0</td>\n",
       "      <td>80.0</td>\n",
       "      <td>64.0</td>\n",
       "      <td>100.0</td>\n",
       "      <td>90.0</td>\n",
       "      <td>選讀生</td>\n",
       "      <td>35.5</td>\n",
       "      <td>CS208G</td>\n",
       "    </tr>\n",
       "    <tr>\n",
       "      <th>1</th>\n",
       "      <td>5ba22afb98d846d7943b5d95</td>\n",
       "      <td>None</td>\n",
       "      <td>1052</td>\n",
       "      <td>10227110</td>\n",
       "      <td>100.0</td>\n",
       "      <td>100.0</td>\n",
       "      <td>100.0</td>\n",
       "      <td>100.0</td>\n",
       "      <td>80.0</td>\n",
       "      <td>100.0</td>\n",
       "      <td>...</td>\n",
       "      <td>100.0</td>\n",
       "      <td>100.0</td>\n",
       "      <td>100.0</td>\n",
       "      <td>80.0</td>\n",
       "      <td>100.0</td>\n",
       "      <td>100.0</td>\n",
       "      <td>80.0</td>\n",
       "      <td>資訊工程學系</td>\n",
       "      <td>47.3</td>\n",
       "      <td>CS208G</td>\n",
       "    </tr>\n",
       "    <tr>\n",
       "      <th>2</th>\n",
       "      <td>5ba22afb98d846d7943b5d96</td>\n",
       "      <td>None</td>\n",
       "      <td>1052</td>\n",
       "      <td>10227118</td>\n",
       "      <td>NaN</td>\n",
       "      <td>NaN</td>\n",
       "      <td>NaN</td>\n",
       "      <td>NaN</td>\n",
       "      <td>50.0</td>\n",
       "      <td>NaN</td>\n",
       "      <td>...</td>\n",
       "      <td>NaN</td>\n",
       "      <td>NaN</td>\n",
       "      <td>NaN</td>\n",
       "      <td>NaN</td>\n",
       "      <td>NaN</td>\n",
       "      <td>NaN</td>\n",
       "      <td>NaN</td>\n",
       "      <td>資訊四甲</td>\n",
       "      <td>0.5</td>\n",
       "      <td>CS208G</td>\n",
       "    </tr>\n",
       "  </tbody>\n",
       "</table>\n",
       "<p>3 rows × 38 columns</p>\n",
       "</div>"
      ],
      "text/plain": [
       "                        _id    備註    學年        學號    期中考    期末考  第一次選擇題小考  \\\n",
       "0  5ba22afb98d846d7943b5d94  None  1052   3102535   55.0   85.0       NaN   \n",
       "1  5ba22afb98d846d7943b5d95  None  1052  10227110  100.0  100.0     100.0   \n",
       "2  5ba22afb98d846d7943b5d96  None  1052  10227118    NaN    NaN       NaN   \n",
       "\n",
       "   第一章作業  第一章測驗  第七章作業   ...    第十二章作業  第十二章測驗  第十章作業  第十章測驗  第四次選擇題小考  第四章作業  \\\n",
       "0  100.0   50.0    NaN   ...     100.0    80.0  100.0   80.0      64.0  100.0   \n",
       "1  100.0   80.0  100.0   ...     100.0   100.0  100.0   80.0     100.0  100.0   \n",
       "2    NaN   50.0    NaN   ...       NaN     NaN    NaN    NaN       NaN    NaN   \n",
       "\n",
       "   第四章測驗      系級    總分    開課代碼  \n",
       "0   90.0     選讀生  35.5  CS208G  \n",
       "1   80.0  資訊工程學系  47.3  CS208G  \n",
       "2    NaN    資訊四甲   0.5  CS208G  \n",
       "\n",
       "[3 rows x 38 columns]"
      ]
     },
     "execution_count": 14,
     "metadata": {},
     "output_type": "execute_result"
    }
   ],
   "source": [
    "db = conn['1052OS']\n",
    "collection = db['1052aOS_grades.json']\n",
    "df = pd.DataFrame(list(collection.find()))\n",
    "df.head(3)"
   ]
  },
  {
   "cell_type": "code",
   "execution_count": 15,
   "metadata": {},
   "outputs": [],
   "source": [
    "score_df = df['總分']\n",
    "score_df = score_df.dropna()\n",
    "score_df = score_df.astype(float)\n",
    "cycu_1052os = score_df.astype(int)"
   ]
  },
  {
   "cell_type": "markdown",
   "metadata": {},
   "source": [
    "# KU"
   ]
  },
  {
   "cell_type": "markdown",
   "metadata": {},
   "source": [
    "### KU BR01"
   ]
  },
  {
   "cell_type": "code",
   "execution_count": 16,
   "metadata": {},
   "outputs": [
    {
     "data": {
      "text/html": [
       "<div>\n",
       "<style scoped>\n",
       "    .dataframe tbody tr th:only-of-type {\n",
       "        vertical-align: middle;\n",
       "    }\n",
       "\n",
       "    .dataframe tbody tr th {\n",
       "        vertical-align: top;\n",
       "    }\n",
       "\n",
       "    .dataframe thead th {\n",
       "        text-align: right;\n",
       "    }\n",
       "</style>\n",
       "<table border=\"1\" class=\"dataframe\">\n",
       "  <thead>\n",
       "    <tr style=\"text-align: right;\">\n",
       "      <th></th>\n",
       "      <th>_id</th>\n",
       "      <th>score</th>\n",
       "      <th>userid</th>\n",
       "    </tr>\n",
       "  </thead>\n",
       "  <tbody>\n",
       "    <tr>\n",
       "      <th>0</th>\n",
       "      <td>5ba2041898d846d794395461</td>\n",
       "      <td>80</td>\n",
       "      <td>ds101</td>\n",
       "    </tr>\n",
       "    <tr>\n",
       "      <th>1</th>\n",
       "      <td>5ba2041898d846d794395462</td>\n",
       "      <td>80</td>\n",
       "      <td>ds102</td>\n",
       "    </tr>\n",
       "    <tr>\n",
       "      <th>2</th>\n",
       "      <td>5ba2041898d846d794395463</td>\n",
       "      <td>60</td>\n",
       "      <td>ds103</td>\n",
       "    </tr>\n",
       "  </tbody>\n",
       "</table>\n",
       "</div>"
      ],
      "text/plain": [
       "                        _id  score userid\n",
       "0  5ba2041898d846d794395461     80  ds101\n",
       "1  5ba2041898d846d794395462     80  ds102\n",
       "2  5ba2041898d846d794395463     60  ds103"
      ]
     },
     "execution_count": 16,
     "metadata": {},
     "output_type": "execute_result"
    }
   ],
   "source": [
    "db = conn['KU_dataset_1']\n",
    "collection = db['data1_score.csv']\n",
    "df = pd.DataFrame(list(collection.find()))\n",
    "df.head(3)"
   ]
  },
  {
   "cell_type": "code",
   "execution_count": 17,
   "metadata": {},
   "outputs": [],
   "source": [
    "score_df = df['score']\n",
    "score_df = score_df.dropna()\n",
    "score_df = score_df.astype(float)\n",
    "ku_br01 = score_df.astype(int)"
   ]
  },
  {
   "cell_type": "markdown",
   "metadata": {},
   "source": [
    "### KU BR02"
   ]
  },
  {
   "cell_type": "code",
   "execution_count": 18,
   "metadata": {},
   "outputs": [
    {
     "data": {
      "text/html": [
       "<div>\n",
       "<style scoped>\n",
       "    .dataframe tbody tr th:only-of-type {\n",
       "        vertical-align: middle;\n",
       "    }\n",
       "\n",
       "    .dataframe tbody tr th {\n",
       "        vertical-align: top;\n",
       "    }\n",
       "\n",
       "    .dataframe thead th {\n",
       "        text-align: right;\n",
       "    }\n",
       "</style>\n",
       "<table border=\"1\" class=\"dataframe\">\n",
       "  <thead>\n",
       "    <tr style=\"text-align: right;\">\n",
       "      <th></th>\n",
       "      <th>_id</th>\n",
       "      <th>score</th>\n",
       "      <th>userid</th>\n",
       "    </tr>\n",
       "  </thead>\n",
       "  <tbody>\n",
       "    <tr>\n",
       "      <th>0</th>\n",
       "      <td>5ba2041a98d846d79439e577</td>\n",
       "      <td>100.0</td>\n",
       "      <td>ds201</td>\n",
       "    </tr>\n",
       "    <tr>\n",
       "      <th>1</th>\n",
       "      <td>5ba2041a98d846d79439e578</td>\n",
       "      <td>62.5</td>\n",
       "      <td>ds202</td>\n",
       "    </tr>\n",
       "    <tr>\n",
       "      <th>2</th>\n",
       "      <td>5ba2041a98d846d79439e579</td>\n",
       "      <td>87.5</td>\n",
       "      <td>ds203</td>\n",
       "    </tr>\n",
       "  </tbody>\n",
       "</table>\n",
       "</div>"
      ],
      "text/plain": [
       "                        _id  score userid\n",
       "0  5ba2041a98d846d79439e577  100.0  ds201\n",
       "1  5ba2041a98d846d79439e578   62.5  ds202\n",
       "2  5ba2041a98d846d79439e579   87.5  ds203"
      ]
     },
     "execution_count": 18,
     "metadata": {},
     "output_type": "execute_result"
    }
   ],
   "source": [
    "db = conn['KU_dataset_2']\n",
    "collection = db['data2_score.csv']\n",
    "df = pd.DataFrame(list(collection.find()))\n",
    "df.head(3)"
   ]
  },
  {
   "cell_type": "code",
   "execution_count": 19,
   "metadata": {},
   "outputs": [],
   "source": [
    "score_df = df['score']\n",
    "score_df = score_df.dropna()\n",
    "score_df = score_df.astype(float)\n",
    "ku_br02 = score_df.astype(int)"
   ]
  },
  {
   "cell_type": "markdown",
   "metadata": {},
   "source": [
    "# Visualization"
   ]
  },
  {
   "cell_type": "code",
   "execution_count": 61,
   "metadata": {},
   "outputs": [
    {
     "data": {
      "image/png": "[encoded data removed]",
      "text/plain": [
       "<Figure size 1008x504 with 9 Axes>"
      ]
     },
     "metadata": {},
     "output_type": "display_data"
    }
   ],
   "source": [
    "matplotlib.rcParams.update({'font.size': 12})\n",
    "\n",
    "plt.figure(figsize=(14, 7))\n",
    "plt.subplots_adjust(hspace=0.4, wspace=0.4)\n",
    "\n",
    "label = ['Validation', 'Testing']\n",
    "bins = 10\n",
    "ylimit = 0.09\n",
    "\n",
    "plt.subplot(3, 3, 1)\n",
    "plt.hist(ncux_fc, bins = bins, density=True)\n",
    "xt = plt.xticks()[0]  \n",
    "xmin, xmax = min(xt), max(xt)  \n",
    "lnspc = np.linspace(xmin, xmax, len(ncux_fc))\n",
    "m, s = stats.norm.fit(ncux_fc) # get mean and standard deviation  \n",
    "pdf_g = stats.norm.pdf(lnspc, m, s) # now get theoretical values in our interval  \n",
    "plt.plot(lnspc, pdf_g, label=\"Norm\") # plot it\n",
    "plt.title('NCUx - Freshman calculas')\n",
    "plt.ylabel('Probability')\n",
    "plt.xlabel('Final Score')\n",
    "plt.xlim(0, 100)\n",
    "plt.ylim(0, ylimit)\n",
    "#plt.legend(['Training', 'Testing'])\n",
    "\n",
    "plt.subplot(3, 3, 2)\n",
    "plt.hist(ncux_chka, bins = bins, density=True)\n",
    "xt = plt.xticks()[0]  \n",
    "xmin, xmax = min(xt), max(xt)  \n",
    "lnspc = np.linspace(xmin, xmax, len(ncux_chka))\n",
    "m, s = stats.norm.fit(ncux_chka) # get mean and standard deviation  \n",
    "pdf_g = stats.norm.pdf(lnspc, m, s) # now get theoretical values in our interval  \n",
    "plt.plot(lnspc, pdf_g, label=\"Norm\") # plot it\n",
    "plt.title('NCUx - CHKA')\n",
    "plt.ylabel('Probability')\n",
    "plt.xlabel('Final Score')\n",
    "plt.xlim(0, 100)\n",
    "plt.ylim(0, ylimit)\n",
    "\n",
    "plt.subplot(3, 3, 3)\n",
    "plt.hist(ncux_chkb, bins = bins, density=True)\n",
    "xt = plt.xticks()[0]  \n",
    "xmin, xmax = min(xt), max(xt)  \n",
    "lnspc = np.linspace(xmin, xmax, len(ncux_chkb))\n",
    "m, s = stats.norm.fit(ncux_chkb) # get mean and standard deviation  \n",
    "pdf_g = stats.norm.pdf(lnspc, m, s) # now get theoretical values in our interval  \n",
    "plt.plot(lnspc, pdf_g, label=\"Norm\") # plot it\n",
    "plt.title('NCUx - CHKB')\n",
    "plt.ylabel('Probability')\n",
    "plt.xlabel('Final Score')\n",
    "plt.xlim(0, 100)\n",
    "plt.ylim(0, ylimit)\n",
    "\n",
    "plt.subplot(3, 3, 4)\n",
    "plt.hist(cycu_1041sp, bins = bins, density=True)\n",
    "xt = plt.xticks()[0]  \n",
    "xmin, xmax = min(xt), max(xt)  \n",
    "lnspc = np.linspace(xmin, xmax, len(cycu_1041sp))\n",
    "m, s = stats.norm.fit(cycu_1041sp) # get mean and standard deviation  \n",
    "pdf_g = stats.norm.pdf(lnspc, m, s) # now get theoretical values in our interval  \n",
    "plt.plot(lnspc, pdf_g, label=\"Norm\") # plot it\n",
    "plt.title('CYCU - 1041SP')\n",
    "plt.ylabel('Probability')\n",
    "plt.xlabel('Final Score')\n",
    "plt.xlim(0, 100)\n",
    "plt.ylim(0, ylimit)\n",
    "\n",
    "plt.subplot(3, 3, 5)\n",
    "plt.hist(cycu_1051sp, bins = bins, density=True)\n",
    "xt = plt.xticks()[0]  \n",
    "xmin, xmax = min(xt), max(xt)  \n",
    "lnspc = np.linspace(xmin, xmax, len(cycu_1051sp))\n",
    "m, s = stats.norm.fit(cycu_1051sp) # get mean and standard deviation  \n",
    "pdf_g = stats.norm.pdf(lnspc, m, s) # now get theoretical values in our interval  \n",
    "plt.plot(lnspc, pdf_g, label=\"Norm\") # plot it\n",
    "plt.title('CYCU - 1051SP')\n",
    "plt.ylabel('Probability')\n",
    "plt.xlabel('Final Score')\n",
    "plt.xlim(0, 100)\n",
    "plt.ylim(0, ylimit)\n",
    "\n",
    "\n",
    "\n",
    "plt.subplot(3, 3, 6)\n",
    "plt.hist(cycu_1042os, bins = bins, density=True)\n",
    "xt = plt.xticks()[0]  \n",
    "xmin, xmax = min(xt), max(xt)  \n",
    "lnspc = np.linspace(xmin, xmax, len(cycu_1042os))\n",
    "m, s = stats.norm.fit(cycu_1042os) # get mean and standard deviation  \n",
    "pdf_g = stats.norm.pdf(lnspc, m, s) # now get theoretical values in our interval  \n",
    "plt.plot(lnspc, pdf_g, label=\"Norm\") # plot it\n",
    "plt.title('CYCU - 1042OS')\n",
    "plt.ylabel('Probability')\n",
    "plt.xlabel('Final Score')\n",
    "plt.xlim(0, 100)\n",
    "plt.ylim(0, ylimit)\n",
    "\n",
    "\n",
    "\n",
    "\n",
    "plt.subplot(3, 3, 7)\n",
    "plt.hist(cycu_1052os, bins = bins, density=True)\n",
    "xt = plt.xticks()[0]  \n",
    "xmin, xmax = min(xt), max(xt)  \n",
    "lnspc = np.linspace(xmin, xmax, len(cycu_1052os))\n",
    "m, s = stats.norm.fit(cycu_1052os) # get mean and standard deviation  \n",
    "pdf_g = stats.norm.pdf(lnspc, m, s) # now get theoretical values in our interval  \n",
    "plt.plot(lnspc, pdf_g, label=\"Norm\") # plot it\n",
    "plt.title('CYCU - 1052OS')\n",
    "plt.ylabel('Probability')\n",
    "plt.xlabel('Final Score')\n",
    "plt.xlim(0, 100)\n",
    "plt.ylim(0, ylimit)\n",
    "\n",
    "\n",
    "\n",
    "\n",
    "plt.subplot(3, 3, 8)\n",
    "plt.hist(ku_br01, bins = 7, density=True)\n",
    "xt = plt.xticks()[0]  \n",
    "xmin, xmax = min(xt), max(xt)  \n",
    "lnspc = np.linspace(xmin, xmax, len(ku_br01))\n",
    "m, s = stats.norm.fit(ku_br01) # get mean and standard deviation  \n",
    "pdf_g = stats.norm.pdf(lnspc, m, s) # now get theoretical values in our interval  \n",
    "plt.plot(lnspc, pdf_g, label=\"Norm\") # plot it\n",
    "plt.title('KU - BookRoll-1')\n",
    "plt.ylabel('Probability')\n",
    "plt.xlabel('Final Score')\n",
    "plt.xlim(0, 100)\n",
    "plt.ylim(0, ylimit)\n",
    "\n",
    "\n",
    "\n",
    "\n",
    "\n",
    "plt.subplot(3, 3, 9)\n",
    "plt.hist(ku_br02, bins = bins, density=True)\n",
    "xt = plt.xticks()[0]  \n",
    "xmin, xmax = min(xt), max(xt)  \n",
    "lnspc = np.linspace(xmin, xmax, len(ku_br02))\n",
    "m, s = stats.norm.fit(ku_br02) # get mean and standard deviation  \n",
    "pdf_g = stats.norm.pdf(lnspc, m, s) # now get theoretical values in our interval  \n",
    "plt.plot(lnspc, pdf_g, label=\"Norm\") # plot it\n",
    "plt.title('KU - BookRoll-2 with K')\n",
    "plt.ylabel('Probability')\n",
    "plt.xlabel('Final Score')\n",
    "plt.xlim(0, 100)\n",
    "plt.ylim(0, ylimit)\n",
    "\n",
    "\n",
    "\n",
    "plt.tight_layout()\n",
    "plt.savefig('./images/score_distribution.png', dpi=300)\n",
    "\n",
    "#plt.show()"
   ]
  },
  {
   "cell_type": "code",
   "execution_count": 53,
   "metadata": {},
   "outputs": [
    {
     "data": {
      "text/plain": [
       "120.0"
      ]
     },
     "execution_count": 53,
     "metadata": {},
     "output_type": "execute_result"
    }
   ],
   "source": [
    "max(xt)"
   ]
  },
  {
   "cell_type": "code",
   "execution_count": 81,
   "metadata": {},
   "outputs": [],
   "source": [
    "xmin, xmax = min(xt), max(xt)  \n",
    "lnspc = np.linspace(xmin, xmax, 1000)\n",
    "\n",
    "m, s = stats.norm.fit(ncux_fc)  \n",
    "pdf_g_ncux_fc = stats.norm.pdf(lnspc, m, s) \n",
    "m, s = stats.norm.fit(ncux_chka)  \n",
    "pdf_g_ncux_chka = stats.norm.pdf(lnspc, m, s) \n",
    "m, s = stats.norm.fit(ncux_chkb)  \n",
    "pdf_g_ncux_chkb = stats.norm.pdf(lnspc, m, s) \n",
    "\n",
    "m, s = stats.norm.fit(cycu_1041sp)  \n",
    "pdf_g_cycu_1041sp = stats.norm.pdf(lnspc, m, s) \n",
    "m, s = stats.norm.fit(cycu_1051sp)  \n",
    "pdf_g_cycu_1051sp = stats.norm.pdf(lnspc, m, s) \n",
    "m, s = stats.norm.fit(cycu_1042os)  \n",
    "pdf_g_cycu_1042os = stats.norm.pdf(lnspc, m, s) \n",
    "m, s = stats.norm.fit(cycu_1052os)  \n",
    "pdf_g_cycu_1052os = stats.norm.pdf(lnspc, m, s) \n",
    "\n",
    "m, s = stats.norm.fit(ku_br01)  \n",
    "pdf_g_ku01 = stats.norm.pdf(lnspc, m, s) \n",
    "m, s = stats.norm.fit(ku_br02)  \n",
    "pdf_g_ku02 = stats.norm.pdf(lnspc, m, s)"
   ]
  },
  {
   "cell_type": "code",
   "execution_count": 88,
   "metadata": {},
   "outputs": [],
   "source": [
    "X = np.array([pdf_g_ncux_fc, \n",
    "              pdf_g_ncux_chka, \n",
    "              pdf_g_ncux_chkb, \n",
    "              pdf_g_cycu_1041sp,\n",
    "              pdf_g_cycu_1051sp,\n",
    "              pdf_g_cycu_1042os,\n",
    "              pdf_g_cycu_1052os,\n",
    "              pdf_g_ku01, \n",
    "              pdf_g_ku02])\n",
    "kmeans = KMeans(n_clusters=3, random_state=0).fit(X)\n",
    "\n",
    "centroids = kmeans.cluster_centers_\n",
    "labels = kmeans.labels_"
   ]
  },
  {
   "cell_type": "code",
   "execution_count": 89,
   "metadata": {},
   "outputs": [
    {
     "data": {
      "text/plain": [
       "array([1, 2, 2, 1, 2, 0, 0, 1, 1], dtype=int32)"
      ]
     },
     "execution_count": 89,
     "metadata": {},
     "output_type": "execute_result"
    }
   ],
   "source": [
    "kmeans.labels_"
   ]
  },
  {
   "cell_type": "code",
   "execution_count": 90,
   "metadata": {
    "scrolled": true
   },
   "outputs": [
    {
     "data": {
      "image/png": "[encoded data removed]",
      "text/plain": [
       "<Figure size 432x288 with 1 Axes>"
      ]
     },
     "metadata": {},
     "output_type": "display_data"
    }
   ],
   "source": [
    "colors = [\"g.\",\"r.\", \"c.\"]\n",
    "\n",
    "for i in range(len(X)):\n",
    "    #print(\"coordinate:\",X[i], \"label:\", labels[i])\n",
    "    plt.plot(X[i][0], X[i][1], colors[labels[i]], markersize = 10)\n",
    "\n",
    "\n",
    "plt.scatter(centroids[:, 0],centroids[:, 1], marker = \"x\", s=150, linewidths = 5, zorder = 10)\n",
    "\n",
    "plt.show()"
   ]
  },
  {
   "cell_type": "code",
   "execution_count": null,
   "metadata": {},
   "outputs": [],
   "source": []
  }
 ],
 "metadata": {
  "kernelspec": {
   "display_name": "Python 3",
   "language": "python",
   "name": "python3"
  },
  "language_info": {
   "codemirror_mode": {
    "name": "ipython",
    "version": 3
   },
   "file_extension": ".py",
   "mimetype": "text/x-python",
   "name": "python",
   "nbconvert_exporter": "python",
   "pygments_lexer": "ipython3",
   "version": "3.4.3"
  }
 },
 "nbformat": 4,
 "nbformat_minor": 2
}
